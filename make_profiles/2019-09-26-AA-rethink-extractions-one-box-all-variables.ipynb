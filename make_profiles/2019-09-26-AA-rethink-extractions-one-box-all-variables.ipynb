{
 "cells": [
  {
   "cell_type": "code",
   "execution_count": 1,
   "metadata": {},
   "outputs": [],
   "source": [
    "import xarray as xr \n",
    "import dask \n",
    "import numpy as np \n",
    "import os \n",
    "import time \n",
    "import glob\n",
    "from datetime import date\n",
    "import pandas as pd\n",
    "\n",
    "today=date.today()"
   ]
  },
  {
   "cell_type": "code",
   "execution_count": 2,
   "metadata": {},
   "outputs": [],
   "source": [
    "data_dir = '/store/CT1/hmg2840/lbrodeau/eNATL60/eNATL60-BLBT02-S/'\n",
    "gridfile='/store/CT1/hmg2840/lbrodeau/eNATL60/eNATL60-I/mesh_mask_eNATL60_3.6_lev1.nc4'\n",
    "dsgrid=xr.open_dataset(gridfile,chunks={'x':1000,'y':1000})"
   ]
  },
  {
   "cell_type": "code",
   "execution_count": 3,
   "metadata": {},
   "outputs": [],
   "source": [
    "boxes_LS=pd.read_csv('../make_boxes/boxes_LS_1x1_eNATL60.csv',sep = '\\t',index_col=0)\n",
    "imin_LS=boxes_LS['imin']\n",
    "imax_LS=boxes_LS['imax']\n",
    "jmin_LS=boxes_LS['jmin']\n",
    "jmax_LS=boxes_LS['jmax']\n",
    "box_name=boxes_LS.index"
   ]
  },
  {
   "cell_type": "code",
   "execution_count": 4,
   "metadata": {},
   "outputs": [],
   "source": [
    "def dx_var(data,e1):\n",
    "    dx_var = (data.shift(x=-1) - data)/e1\n",
    "    return dx_var\n",
    "def dy_var(data,e2):\n",
    "    dy_var = (data.shift(y=-1) - data)/e2\n",
    "    return dy_var\n",
    "    "
   ]
  },
  {
   "cell_type": "code",
   "execution_count": 15,
   "metadata": {},
   "outputs": [],
   "source": [
    "filetyps = {'votemper' : 'gridT', 'vosaline' : 'gridS','vozocrtx' : 'gridU', 'vomecrty' : 'gridV','vovecrtz' : 'gridW'}\n",
    "filedeps = {'votemper' : 'deptht','vosaline' : 'deptht','vozocrtx' : 'depthu', 'vomecrty' : 'depthv','vovecrtz':'depthw'}\n",
    "filee1 = {'votemper' : 'e1t','vosaline' : 'e1t','vozocrtx' : 'e1u', 'vomecrty' : 'e1v','vovecrtz':'e1f'}\n",
    "filee2 = {'votemper' : 'e2t','vosaline' : 'e2t','vozocrtx' : 'e2u', 'vomecrty' : 'e2v','vovecrtz':'e2f'}\n",
    "\n",
    "\n",
    "def compute_all_profiles_temperature(date,ibox):\n",
    "    var='votemper'\n",
    "    filename = sorted(glob.glob(data_dir+'*/eNATL60-BLBT02_1h_*_'+filetyps[var]+'_'+date+'-'+date+'.nc'))\n",
    "    file=filename[0]\n",
    "    ds=xr.open_dataset(file)\n",
    "    data_box=ds[str(var)][:,:,jmin_LS[ibox]-10:jmax_LS[ibox]+10,imin_LS[ibox]-10:imax_LS[ibox]+10]\n",
    "    e1=dsgrid[str(filee1[var])][0,jmin_LS[ibox]-10:jmax_LS[ibox]+10,imin_LS[ibox]-10:imax_LS[ibox]+10]\n",
    "    e2=dsgrid[str(filee2[var])][0,jmin_LS[ibox]-10:jmax_LS[ibox]+10,imin_LS[ibox]-10:imax_LS[ibox]+10]\n",
    "    data_dx=dx_var(data_box,e1)\n",
    "    data_dy=dy_var(data_box,e2)\n",
    "    profile_data=data_box[:,:,10:-10,10:-10].mean(dim={'x','y','time_counter'})\n",
    "    profile_data_dx=data_dx[:,:,10:-10,10:-10].mean(dim={'x','y','time_counter'})\n",
    "    profile_data_dy=data_dy[:,:,10:-10,10:-10].mean(dim={'x','y','time_counter'})\n",
    "    return profile_data,profile_data_dx,profile_data_dy\n",
    "\n"
   ]
  },
  {
   "cell_type": "code",
   "execution_count": 16,
   "metadata": {},
   "outputs": [
    {
     "name": "stdout",
     "output_type": "stream",
     "text": [
      "CPU times: user 3min 57s, sys: 13.7 s, total: 4min 10s\n",
      "Wall time: 6min 40s\n"
     ]
    }
   ],
   "source": [
    "%time profile_data,profile_data_dx,profile_data_dy=compute_all_profiles_temperature('20090701',0)"
   ]
  },
  {
   "cell_type": "code",
   "execution_count": null,
   "metadata": {},
   "outputs": [],
   "source": []
  }
 ],
 "metadata": {
  "kernelspec": {
   "display_name": "Python 3",
   "language": "python",
   "name": "python3"
  },
  "language_info": {
   "codemirror_mode": {
    "name": "ipython",
    "version": 3
   },
   "file_extension": ".py",
   "mimetype": "text/x-python",
   "name": "python",
   "nbconvert_exporter": "python",
   "pygments_lexer": "ipython3",
   "version": "3.7.3"
  }
 },
 "nbformat": 4,
 "nbformat_minor": 2
}
