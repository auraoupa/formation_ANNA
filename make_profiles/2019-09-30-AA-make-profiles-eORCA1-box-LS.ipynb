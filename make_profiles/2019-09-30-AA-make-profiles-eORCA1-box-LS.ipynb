{
 "cells": [
  {
   "cell_type": "code",
   "execution_count": 1,
   "metadata": {},
   "outputs": [
    {
     "name": "stderr",
     "output_type": "stream",
     "text": [
      "/scratch/cnt0024/hmg2840/albert7a/anaconda3/lib/python3.7/site-packages/distributed/dashboard/core.py:74: UserWarning: \n",
      "Failed to start diagnostics server on port 8787. [Errno 13] Permission denied\n",
      "  warnings.warn(\"\\n\" + msg)\n"
     ]
    }
   ],
   "source": [
    "import dask\n",
    "import dask.threaded\n",
    "import dask.multiprocessing\n",
    "from dask.distributed import Client\n",
    "\n",
    "c = Client()\n",
    "\n",
    "c"
   ]
  },
  {
   "cell_type": "code",
   "execution_count": 6,
   "metadata": {},
   "outputs": [],
   "source": [
    "import xarray as xr \n",
    "import dask \n",
    "import numpy as np \n",
    "import os \n",
    "import time \n",
    "import glob\n",
    "from datetime import date\n",
    "import pandas as pd\n",
    "\n",
    "today=date.today()"
   ]
  },
  {
   "cell_type": "code",
   "execution_count": 7,
   "metadata": {},
   "outputs": [],
   "source": [
    "## path à modifier\n",
    "\n",
    "#data_dir = ''\n",
    "gridfile='/scratch/cnt0024/hmg2840/albert7a/eORCA1/eORCA1-I/IPSLCM6ALR_eORCA1.2_mesh_mask.nc'\n",
    "dsgrid=xr.open_dataset(gridfile,chunks={'x':1000,'y':1000})"
   ]
  },
  {
   "cell_type": "code",
   "execution_count": 8,
   "metadata": {},
   "outputs": [],
   "source": [
    "## path à modifier\n",
    "boxes_LS=pd.read_csv('/home/albert7a/git/formation_ANNA/make_boxes/boxes_LS_1x1_eNATL60.csv',sep = '\\t',index_col=0)\n",
    "lonmin_LS=boxes_LS['lonmin']\n",
    "lonmax_LS=boxes_LS['lonmax']\n",
    "latmin_LS=boxes_LS['latmin']\n",
    "latmax_LS=boxes_LS['latmax']\n",
    "box_name=boxes_LS.index"
   ]
  },
  {
   "cell_type": "code",
   "execution_count": 9,
   "metadata": {},
   "outputs": [],
   "source": [
    "def dx_var(data,e1):\n",
    "    dx_var = (data.shift(x=-1) - data)/e1\n",
    "    return dx_var\n",
    "\n",
    "def dy_var(data,e2):\n",
    "    dy_var = (data.shift(y=-1) - data)/e2\n",
    "    return dy_var\n",
    "\n",
    "def dz_var(data,e3,dimdep):\n",
    "    if dimdep == 'deptht':\n",
    "        dz_var = (data.shift(deptht=-1) - data)/e3\n",
    "    if dimdep == 'depthu':\n",
    "        dz_var = (data.shift(depthu=-1) - data)/e3\n",
    "    if dimdep == 'depthv':\n",
    "        dz_var = (data.shift(depthv=-1) - data)/e3\n",
    "    if dimdep == 'depthw':\n",
    "        dz_var = (data.shift(depthw=-1) - data)/e3\n",
    "    return dz_var\n",
    "    "
   ]
  },
  {
   "cell_type": "code",
   "execution_count": null,
   "metadata": {},
   "outputs": [],
   "source": [
    "def compute_buoy(t,s):\n",
    "    rau0  = 1000\n",
    "    grav  = 9.81\n",
    "    buoy= -1*(grav/rau0)*sigma0(t,s)\n",
    "    return buoy\n",
    "\n",
    "def sigma0(t,s):\n",
    "    zrau0=1000\n",
    "    zsr=np.sqrt(np.abs(s))\n",
    "    zs=s\n",
    "    zt=t\n",
    "    zr1 = ( ( ( ( 6.536332e-9*zt-1.120083e-6 )*zt+1.001685e-4)*zt - 9.095290e-3 )*zt+6.793952e-2 )*zt+999.842594\n",
    "    zr2= ( ( ( 5.3875e-9*zt-8.2467e-7 )*zt+7.6438e-5 ) *zt - 4.0899e-3 ) *zt+0.824493\n",
    "    zr3= ( -1.6546e-6*zt+1.0227e-4 ) *zt-5.72466e-3\n",
    "    zr4= 4.8314e-4\n",
    "    sigma0=( zr4*zs + zr3*zsr + zr2 ) *zs + zr1 - zrau0\n",
    "    return sigma0\n"
   ]
  },
  {
   "cell_type": "code",
   "execution_count": null,
   "metadata": {},
   "outputs": [],
   "source": [
    "## change name of the files if organization is different\n",
    "filetyps = {'buoyancy' : 'gridT','votemper' : 'gridT', 'vosaline' : 'gridS','vozocrtx' : 'gridU', 'vomecrty' : 'gridV','vovecrtz' : 'gridW'}\n",
    "filedeps = {'buoyancy' : 'deptht','votemper' : 'deptht','vosaline' : 'deptht','vozocrtx' : 'depthu', 'vomecrty' : 'depthv','vovecrtz':'depthw'}\n",
    "filee1 = {'buoyancy' : 'e1t','votemper' : 'e1t','vosaline' : 'e1t','vozocrtx' : 'e1u', 'vomecrty' : 'e1v','vovecrtz':'e1f'}\n",
    "filee2 = {'buoyancy' : 'e2t','votemper' : 'e2t','vosaline' : 'e2t','vozocrtx' : 'e2u', 'vomecrty' : 'e2v','vovecrtz':'e2f'}\n",
    "filee3 = {'buoyancy' : 'e3t_0','votemper' : 'e3t_0','vosaline' : 'e3t_0','vozocrtx' : 'e3u_0', 'vomecrty' : 'e3v_0','vovecrtz':'e3w_0'}\n",
    "\n"
   ]
  },
  {
   "cell_type": "code",
   "execution_count": null,
   "metadata": {},
   "outputs": [],
   "source": [
    "def compute_all_profiles(var,date,ibox):\n",
    "    if var == 'buoyancy':\n",
    "\n",
    "## change name of files\n",
    "        filenameT = sorted(glob.glob(data_dir+'*/eNATL60-BLBT02_1h_*_gridT_'+date+'-'+date+'.nc'))\n",
    "        fileT=filenameT[0]\n",
    "        dsT=xr.open_dataset(fileT)\n",
    "        data_boxT=dsT['votemper'][:,:,jmin_LS[ibox]-10:jmax_LS[ibox]+10,imin_LS[ibox]-10:imax_LS[ibox]+10]\n",
    "## change name of files\n",
    "        filenameS = sorted(glob.glob(data_dir+'*/eNATL60-BLBT02_1h_*_gridS_'+date+'-'+date+'.nc'))\n",
    "        fileS=filenameS[0]\n",
    "        dsS=xr.open_dataset(fileS)\n",
    "        nav_lat=dsT['nav_lat']\n",
    "        nav_lon=dsT['nav_lat']\n",
    "        domain = ((lonmin[ibox]+lonmax[ibox])/2-0.5<navlon) * (navlon<(lonmin[ibox]+lonmax[ibox])/2+0.5) * ((latmin[ibox]+latmax[ibox])/2-0.5<navlat) * (navlat<(latmin[ibox]+latmax[ibox])/2+0.5)\n",
    "        where = np.where(domain)\n",
    "        vlats = navlat[where]\n",
    "        vlons = navlon[where]\n",
    "        #get indice\n",
    "        jmin = where[0][vlats.argmin()]\n",
    "        jmax = where[0][vlats.argmax()]\n",
    "        imin = where[1][vlons.argmin()]\n",
    "        imax = where[1][vlons.argmax()]\n",
    "\n",
    "        data_boxS=dsS['vosaline'][:,:,jmin-10:jmax+10,imin-10:imax+10]\n",
    "        data_box=compute_buoy(data_boxT,data_boxS)\n",
    "        attrs=data_boxT.attrs\n",
    "        attrs['standard_name']='Buoyancy'\n",
    "        attrs['long_name']='Buoyancy'\n",
    "        attrs['units']='m/s2'\n",
    "    else:\n",
    "## change name of files\n",
    "        filename = sorted(glob.glob(data_dir+'*/eNATL60-BLBT02_1h_*_'+filetyps[var]+'_'+date+'-'+date+'.nc'))\n",
    "        file=filename[0]\n",
    "        ds=xr.open_dataset(file)\n",
    "        data_box=ds[str(var)][:,:,jmin-10:jmax+10,imin-10:imax+10]\n",
    "        attrs=data_box.attrs\n",
    "        \n",
    "    e1=dsgrid[str(filee1[var])][0,jmin-10:jmax+10,imin-10:imax+10]\n",
    "    e2=dsgrid[str(filee2[var])][0,jmin-10:jmax+10,imin-10:imax+10]\n",
    "    e3=dsgrid[str(filee3[var])][0,jmin-10:jmax+10,imin-10:imax+10]\n",
    "    data_dx=dx_var(data_box,e1)\n",
    "    data_dy=dy_var(data_box,e2)\n",
    "    data_dz=dz_var(data_box,e3,filedeps[var])\n",
    "    profile_data=data_box[:,:,10:-10,10:-10].mean(dim={'x','y','time_counter'})\n",
    "    profile_data_dx=data_dx[:,:,10:-10,10:-10].mean(dim={'x','y','time_counter'})\n",
    "    profile_data_dy=data_dy[:,:,10:-10,10:-10].mean(dim={'x','y','time_counter'})\n",
    "    profile_data_dz=data_dz[:,:,10:-10,10:-10].mean(dim={'x','y','time_counter'})\n",
    "    return profile_data,profile_data_dx,profile_data_dy,profile_data_dz,attrs\n"
   ]
  },
  {
   "cell_type": "code",
   "execution_count": null,
   "metadata": {},
   "outputs": [],
   "source": [
    "def compute_all_profiles_all_var(date,ibox):\n",
    "    list_dataset=[]\n",
    "    for var in ['votemper','vosaline','vozocrtx','vomecrty','vovecrtz','buoyancy']:\n",
    "        print('compute profile and dx,dy,dz of '+var)\n",
    "        profile_data,profile_data_dx,profile_data_dy,profile_data_dz,attrs=compute_all_profiles(var,'20090701',0)\n",
    "        dataset=profile_data.to_dataset(name=var)\n",
    "        dataset[var].attrs=attrs\n",
    "        dataset[var].attrs['standard_name']=attrs['standard_name']\n",
    "        dataset[var].attrs['long_name']=attrs['long_name']\n",
    "        dataset[var].attrs['units']=attrs['units']\n",
    "        list_dataset.append(dataset)\n",
    "        dataset=profile_data_dx.to_dataset(name='dx'+var)\n",
    "        dataset['dx'+var].attrs=attrs\n",
    "        dataset['dx'+var].attrs['standard_name']='dx gradient of '+attrs['standard_name']\n",
    "        dataset['dx'+var].attrs['long_name']='dx_'+attrs['long_name']\n",
    "        dataset['dx'+var].attrs['units']=attrs['units']\n",
    "        list_dataset.append(dataset)\n",
    "        dataset=profile_data_dy.to_dataset(name='dy'+var)\n",
    "        dataset['dy'+var].attrs=attrs\n",
    "        dataset['dy'+var].attrs['standard_name']='dy gradient of '+attrs['standard_name']\n",
    "        dataset['dy'+var].attrs['long_name']='dy_'+attrs['long_name']\n",
    "        dataset['dy'+var].attrs['units']=attrs['units']\n",
    "        list_dataset.append(dataset)\n",
    "        dataset=profile_data_dz.to_dataset(name='dz'+var)\n",
    "        dataset['dz'+var].attrs=attrs\n",
    "        dataset['dz'+var].attrs['standard_name']='dz gradient of '+attrs['standard_name']\n",
    "        dataset['dz'+var].attrs['long_name']='dz_'+attrs['long_name']\n",
    "        dataset['dz'+var].attrs['units']=attrs['units']\n",
    "        list_dataset.append(dataset)\n",
    "    print('merging all datasets')\n",
    "## change path to output profile\n",
    "    profile_name='/scratch/cnt0024/hmg2840/albert7a/eNATL60/eNATL60-BLBT02-S/ANNA/LS/eNATL60'+box_name[ibox]+'-BLBT02_y'+date[0:4]+'m'+date[4:6]+'d'+date[6:9]+'_predictors-profiles.nc'\n",
    "    big_dataset=xr.merge(list_dataset) \n",
    "    big_dataset.attrs['global_attribute']= 'predictors profiles averaged over 24h and in '+box_name[ibox]+' computed on occigen with dask-jobqueue '+str(today)\n",
    "    print('writing to netcdf')\n",
    "    big_dataset.to_netcdf(path=profile_name,mode='w')\n"
   ]
  },
  {
   "cell_type": "code",
   "execution_count": null,
   "metadata": {},
   "outputs": [],
   "source": [
    "for k in np.arange(len(box_name)):\n",
    "    compute_all_profiles_all_var('20090701',k)\n"
   ]
  }
 ],
 "metadata": {
  "kernelspec": {
   "display_name": "pangeo_cloud",
   "language": "python",
   "name": "pangeo-cloud"
  },
  "language_info": {
   "codemirror_mode": {
    "name": "ipython",
    "version": 3
   },
   "file_extension": ".py",
   "mimetype": "text/x-python",
   "name": "python",
   "nbconvert_exporter": "python",
   "pygments_lexer": "ipython3",
   "version": "3.6.7"
  }
 },
 "nbformat": 4,
 "nbformat_minor": 2
}
