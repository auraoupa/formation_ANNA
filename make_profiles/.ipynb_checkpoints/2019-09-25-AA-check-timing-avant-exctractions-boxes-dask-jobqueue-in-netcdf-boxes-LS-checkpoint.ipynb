{
 "cells": [
  {
   "cell_type": "code",
   "execution_count": 1,
   "metadata": {},
   "outputs": [
    {
     "name": "stderr",
     "output_type": "stream",
     "text": [
      "/scratch/cnt0024/hmg2840/albert7a/anaconda3/lib/python3.7/site-packages/distributed/dashboard/core.py:74: UserWarning: \n",
      "Failed to start diagnostics server on port 8787. [Errno 13] Permission denied\n",
      "  warnings.warn(\"\\n\" + msg)\n"
     ]
    }
   ],
   "source": [
    "from dask_jobqueue import SLURMCluster \n",
    "from dask.distributed import Client \n",
    "  \n",
    "cluster = SLURMCluster(cores=28,name='make_profiles',walltime='00:30:00',job_extra=['--constraint=HSW24','--exclusive','--nodes=1'],memory='120GB',interface='ib0') \n",
    "\n",
    "  "
   ]
  },
  {
   "cell_type": "code",
   "execution_count": 2,
   "metadata": {},
   "outputs": [],
   "source": [
    "cluster.scale(56) \n"
   ]
  },
  {
   "cell_type": "code",
   "execution_count": 3,
   "metadata": {},
   "outputs": [],
   "source": [
    "from dask.distributed import Client\n",
    "client = Client(cluster)\n"
   ]
  },
  {
   "cell_type": "code",
   "execution_count": 4,
   "metadata": {},
   "outputs": [
    {
     "data": {
      "application/vnd.jupyter.widget-view+json": {
       "model_id": "bb64855f0dbc4405aa4bbd6da61f301a",
       "version_major": 2,
       "version_minor": 0
      },
      "text/plain": [
       "VBox(children=(HTML(value='<h2>SLURMCluster</h2>'), HBox(children=(HTML(value='\\n<div>\\n  <style scoped>\\n    …"
      ]
     },
     "metadata": {},
     "output_type": "display_data"
    }
   ],
   "source": [
    "cluster"
   ]
  },
  {
   "cell_type": "code",
   "execution_count": 5,
   "metadata": {},
   "outputs": [
    {
     "data": {
      "text/html": [
       "<table style=\"border: 2px solid white;\">\n",
       "<tr>\n",
       "<td style=\"vertical-align: top; border: 0px solid white\">\n",
       "<h3>Client</h3>\n",
       "<ul>\n",
       "  <li><b>Scheduler: </b>tcp://172.30.100.3:35049\n",
       "  <li><b>Dashboard: </b><a href='http://172.30.100.3:42209/status' target='_blank'>http://172.30.100.3:42209/status</a>\n",
       "</ul>\n",
       "</td>\n",
       "<td style=\"vertical-align: top; border: 0px solid white\">\n",
       "<h3>Cluster</h3>\n",
       "<ul>\n",
       "  <li><b>Workers: </b>0</li>\n",
       "  <li><b>Cores: </b>0</li>\n",
       "  <li><b>Memory: </b>0 B</li>\n",
       "</ul>\n",
       "</td>\n",
       "</tr>\n",
       "</table>"
      ],
      "text/plain": [
       "<Client: scheduler='tcp://172.30.100.3:35049' processes=0 cores=0>"
      ]
     },
     "execution_count": 5,
     "metadata": {},
     "output_type": "execute_result"
    }
   ],
   "source": [
    "\n",
    "\n",
    "client\n",
    "\n"
   ]
  },
  {
   "cell_type": "code",
   "execution_count": 6,
   "metadata": {},
   "outputs": [],
   "source": [
    "import xarray as xr \n",
    "import dask \n",
    "import numpy as np \n",
    "import os \n",
    "import time \n",
    "import glob\n",
    "from datetime import date\n",
    "import pandas as pd\n",
    "\n",
    "today=date.today()"
   ]
  },
  {
   "cell_type": "code",
   "execution_count": 7,
   "metadata": {},
   "outputs": [],
   "source": [
    "data_dir = '/store/CT1/hmg2840/lbrodeau/eNATL60/eNATL60-BLBT02-S/'\n",
    "gridfile='/store/CT1/hmg2840/lbrodeau/eNATL60/eNATL60-I/mesh_mask_eNATL60_3.6_lev1.nc4'\n",
    "dsgrid=xr.open_dataset(gridfile,chunks={'x':1000,'y':1000})"
   ]
  },
  {
   "cell_type": "code",
   "execution_count": 8,
   "metadata": {},
   "outputs": [],
   "source": [
    "boxes_LS=pd.read_csv('../make_boxes/boxes_LS_1x1_eNATL60.csv',sep = '\\t',index_col=0)\n",
    "imin_LS=boxes_LS['imin']\n",
    "imax_LS=boxes_LS['imax']\n",
    "jmin_LS=boxes_LS['jmin']\n",
    "jmax_LS=boxes_LS['jmax']\n",
    "box_name=boxes_LS.index"
   ]
  },
  {
   "cell_type": "code",
   "execution_count": 9,
   "metadata": {},
   "outputs": [],
   "source": [
    "def dx_var(data,e1):\n",
    "    dx_var = (data.shift(x=-1) - data)/e1\n",
    "    return dx_var\n",
    "def dy_var(data,e2):\n",
    "    dy_var = (data.shift(y=-1) - data)/e2\n",
    "    return dy_var\n",
    "    "
   ]
  },
  {
   "cell_type": "code",
   "execution_count": 16,
   "metadata": {},
   "outputs": [],
   "source": [
    "def save_profile_dx(data_dx,data,var,imin,imax,jmin,jmax,profile_name,box):\n",
    "    if not os.path.exists(profile_name):\n",
    "            profile=data_dx[:,:,jmin:jmax,imin:imax].mean(dim={'x','y','time_counter'})\n",
    "            dataset=profile.to_dataset(name='dx'+var)\n",
    "            dataset['dx'+var].attrs=data.attrs\n",
    "            dataset['dx'+var].attrs['standard_name']='dx gradient of '+data.attrs['standard_name']\n",
    "            dataset['dx'+var].attrs['long_name']='dx_'+data.attrs['long_name']\n",
    "            dataset['dx'+var].attrs['units']='degC/m'        \n",
    "            dataset.attrs['global_attribute']= 'x-gradient of '+var+' profile averaged over 24h and in '+box+' computed on occigen with dask-jobqueue '+str(today)\n",
    "            dataset.to_netcdf(path=profile_name,mode='w')\n"
   ]
  },
  {
   "cell_type": "code",
   "execution_count": 17,
   "metadata": {},
   "outputs": [],
   "source": [
    "filetyps = {'votemper' : 'gridT', 'vosaline' : 'gridS','vozocrtx' : 'gridU', 'vomecrty' : 'gridV','vovecrtz' : 'gridW'}\n",
    "filedeps = {'votemper' : 'deptht','vosaline' : 'deptht','vozocrtx' : 'depthu', 'vomecrty' : 'depthv','vovecrtz':'depthw'}\n",
    "filee1 = {'votemper' : 'e1t','vosaline' : 'e1t','vozocrtx' : 'e1u', 'vomecrty' : 'e1v','vovecrtz':'e1f'}\n",
    "\n",
    "\n",
    "def compute_mean_dx_profile(var,date):\n",
    "    filename = sorted(glob.glob(data_dir+'*/eNATL60-BLBT02_1h_*_'+filetyps[var]+'_'+date+'-'+date+'.nc'))\n",
    "    file=filename[0]\n",
    "    ds=xr.open_dataset(file,chunks={'x':1000,'y':1000,'time_counter':1,filedeps[var]:1})\n",
    "    data=ds[str(var)]\n",
    "    e1=dsgrid[str(filee1[var])][0]\n",
    "    data_dx=dx_var(data,e1)\n",
    "    for i in range(len(box_name)):\n",
    "        box = box_name[i]\n",
    "        print(box)  \n",
    "        profile_name='/scratch/cnt0024/hmg2840/albert7a/eNATL60/eNATL60-BLBT02-S/ANNA/LS/eNATL60'+box+'-BLBT02_y'+date[0:4]+'m'+date[4:6]+'d'+date[6:9]+'_dx'+var+'-profile.nc'\n",
    "        %time save_profile_dx(data_dx,data,var,imin_LS[i],imax_LS[i],jmin_LS[i],jmax_LS[i],profile_name,box)"
   ]
  },
  {
   "cell_type": "code",
   "execution_count": null,
   "metadata": {},
   "outputs": [
    {
     "name": "stdout",
     "output_type": "stream",
     "text": [
      "Box_0\n",
      "CPU times: user 482 µs, sys: 53 µs, total: 535 µs\n",
      "Wall time: 453 µs\n",
      "Box_1\n",
      "CPU times: user 425 µs, sys: 6 µs, total: 431 µs\n",
      "Wall time: 318 µs\n",
      "Box_2\n",
      "CPU times: user 507 µs, sys: 12 µs, total: 519 µs\n",
      "Wall time: 434 µs\n",
      "Box_3\n",
      "CPU times: user 183 µs, sys: 0 ns, total: 183 µs\n",
      "Wall time: 153 µs\n",
      "Box_4\n",
      "CPU times: user 243 µs, sys: 0 ns, total: 243 µs\n",
      "Wall time: 213 µs\n",
      "Box_5\n",
      "CPU times: user 0 ns, sys: 241 µs, total: 241 µs\n",
      "Wall time: 189 µs\n",
      "Box_6\n",
      "CPU times: user 0 ns, sys: 584 µs, total: 584 µs\n",
      "Wall time: 453 µs\n",
      "Box_7\n",
      "CPU times: user 273 µs, sys: 30 µs, total: 303 µs\n",
      "Wall time: 243 µs\n",
      "Box_8\n",
      "CPU times: user 158 µs, sys: 309 µs, total: 467 µs\n",
      "Wall time: 391 µs\n",
      "Box_9\n",
      "CPU times: user 220 µs, sys: 256 µs, total: 476 µs\n",
      "Wall time: 387 µs\n",
      "Box_10\n",
      "CPU times: user 335 µs, sys: 0 ns, total: 335 µs\n",
      "Wall time: 268 µs\n",
      "Box_11\n",
      "CPU times: user 358 µs, sys: 0 ns, total: 358 µs\n",
      "Wall time: 281 µs\n",
      "Box_12\n",
      "CPU times: user 300 µs, sys: 17 µs, total: 317 µs\n",
      "Wall time: 255 µs\n",
      "Box_13\n",
      "CPU times: user 296 µs, sys: 0 ns, total: 296 µs\n",
      "Wall time: 236 µs\n",
      "Box_14\n",
      "CPU times: user 0 ns, sys: 336 µs, total: 336 µs\n",
      "Wall time: 270 µs\n",
      "Box_15\n",
      "CPU times: user 107 µs, sys: 188 µs, total: 295 µs\n",
      "Wall time: 234 µs\n",
      "Box_16\n",
      "CPU times: user 295 µs, sys: 0 ns, total: 295 µs\n",
      "Wall time: 234 µs\n",
      "Box_17\n",
      "CPU times: user 317 µs, sys: 0 ns, total: 317 µs\n",
      "Wall time: 255 µs\n",
      "Box_18\n",
      "CPU times: user 319 µs, sys: 14 µs, total: 333 µs\n",
      "Wall time: 254 µs\n",
      "Box_19\n",
      "CPU times: user 313 µs, sys: 0 ns, total: 313 µs\n",
      "Wall time: 248 µs\n",
      "Box_20\n",
      "CPU times: user 320 µs, sys: 0 ns, total: 320 µs\n",
      "Wall time: 241 µs\n",
      "Box_21\n",
      "CPU times: user 442 µs, sys: 0 ns, total: 442 µs\n",
      "Wall time: 309 µs\n",
      "Box_22\n",
      "CPU times: user 331 µs, sys: 33 µs, total: 364 µs\n",
      "Wall time: 283 µs\n",
      "Box_23\n",
      "CPU times: user 213 µs, sys: 9 µs, total: 222 µs\n",
      "Wall time: 175 µs\n",
      "Box_24\n",
      "CPU times: user 355 µs, sys: 0 ns, total: 355 µs\n",
      "Wall time: 287 µs\n",
      "Box_25\n",
      "CPU times: user 343 µs, sys: 0 ns, total: 343 µs\n",
      "Wall time: 277 µs\n",
      "Box_26\n",
      "CPU times: user 345 µs, sys: 0 ns, total: 345 µs\n",
      "Wall time: 280 µs\n",
      "Box_27\n",
      "CPU times: user 305 µs, sys: 13 µs, total: 318 µs\n",
      "Wall time: 253 µs\n",
      "Box_28\n",
      "CPU times: user 329 µs, sys: 0 ns, total: 329 µs\n",
      "Wall time: 264 µs\n",
      "Box_29\n",
      "CPU times: user 346 µs, sys: 0 ns, total: 346 µs\n",
      "Wall time: 279 µs\n",
      "Box_30\n",
      "CPU times: user 305 µs, sys: 13 µs, total: 318 µs\n",
      "Wall time: 252 µs\n",
      "Box_31\n",
      "CPU times: user 315 µs, sys: 0 ns, total: 315 µs\n",
      "Wall time: 250 µs\n",
      "Box_32\n",
      "CPU times: user 1min 1s, sys: 5.6 s, total: 1min 7s\n",
      "Wall time: 1min 7s\n",
      "Box_33\n",
      "CPU times: user 1min 19s, sys: 8.34 s, total: 1min 27s\n",
      "Wall time: 1min 31s\n",
      "Box_34\n",
      "CPU times: user 1min 11s, sys: 8.01 s, total: 1min 19s\n",
      "Wall time: 1min 24s\n",
      "Box_35\n",
      "CPU times: user 1min 12s, sys: 8.6 s, total: 1min 21s\n",
      "Wall time: 1min 28s\n",
      "Box_36\n",
      "CPU times: user 1min 8s, sys: 7.68 s, total: 1min 16s\n",
      "Wall time: 1min 19s\n",
      "Box_37\n"
     ]
    },
    {
     "name": "stderr",
     "output_type": "stream",
     "text": [
      "distributed.utils_perf - WARNING - full garbage collections took 11% CPU time recently (threshold: 10%)\n"
     ]
    },
    {
     "name": "stdout",
     "output_type": "stream",
     "text": [
      "CPU times: user 1min 9s, sys: 8.35 s, total: 1min 18s\n",
      "Wall time: 1min 22s\n",
      "Box_38\n"
     ]
    },
    {
     "name": "stderr",
     "output_type": "stream",
     "text": [
      "distributed.utils_perf - WARNING - full garbage collections took 11% CPU time recently (threshold: 10%)\n",
      "distributed.utils_perf - WARNING - full garbage collections took 10% CPU time recently (threshold: 10%)\n"
     ]
    },
    {
     "name": "stdout",
     "output_type": "stream",
     "text": [
      "CPU times: user 1min 9s, sys: 7.35 s, total: 1min 16s\n",
      "Wall time: 1min 20s\n",
      "Box_39\n"
     ]
    },
    {
     "name": "stderr",
     "output_type": "stream",
     "text": [
      "distributed.utils_perf - WARNING - full garbage collections took 10% CPU time recently (threshold: 10%)\n",
      "distributed.utils_perf - WARNING - full garbage collections took 10% CPU time recently (threshold: 10%)\n"
     ]
    }
   ],
   "source": [
    "%time compute_mean_dx_profile('votemper','20090701')"
   ]
  },
  {
   "cell_type": "code",
   "execution_count": 11,
   "metadata": {},
   "outputs": [],
   "source": [
    "filetyps = {'votemper' : 'gridT', 'vosaline' : 'gridS','vozocrtx' : 'gridU', 'vomecrty' : 'gridV','vovecrtz' : 'gridW'}\n",
    "filedeps = {'votemper' : 'deptht','vosaline' : 'deptht','vozocrtx' : 'depthu', 'vomecrty' : 'depthv','vovecrtz':'depthw'}\n",
    "filee2 = {'votemper' : 'e2t','vosaline' : 'e2t','vozocrtx' : 'e2u', 'vomecrty' : 'e2v','vovecrtz':'e2f'}\n",
    "\n",
    "\n",
    "def compute_mean_dy_profile(var,date):\n",
    "    filename = sorted(glob.glob(data_dir+'*/eNATL60-BLBT02_1h_*_'+filetyps[var]+'_'+date+'-'+date+'.nc'))\n",
    "    file=filename[0]\n",
    "    ds=xr.open_dataset(file,chunks={'x':1000,'y':1000,'time_counter':1,filedeps[var]:1})\n",
    "    data=ds[str(var)]\n",
    "    e2=dsgrid[str(filee2[var])][0]\n",
    "    data_dy=dy_var(data,e2)\n",
    "    for i in range(len(box_name)):\n",
    "        box = box_name[i]\n",
    "        print(box)  \n",
    "        profile_name='/scratch/cnt0024/hmg2840/albert7a/eNATL60/eNATL60-BLBT02-S/ANNA/LS/eNATL60'+box.name+'-BLBT02_y'+date[0:4]+'m'+date[4:6]+'d'+date[6:9]+'_dy'+var+'-profile.nc'\n",
    "        if not os.path.exists(profile_name):\n",
    "            profile=data_dy[:,:,jmin_LS[i]:jmax_LS[i],imin_LS[i]:imax_LS[i]].mean(dim={'x','y','time_counter'})\n",
    "            dataset=profile.to_dataset(name='dy'+var)\n",
    "            dataset['dy'+var].attrs=data.attrs\n",
    "            dataset['dy'+var].attrs['standard_name']='dy gradient of '+data.attrs['standard_name']\n",
    "            dataset['dy'+var].attrs['long_name']='dy_'+data.attrs['long_name']\n",
    "            dataset['dy'+var].attrs['units']='degC/m'        \n",
    "            dataset.attrs['global_attribute']= 'y-gradient of '+var+' profile averaged over 24h and in '+box+' computed on occigen with dask-jobqueue '+str(today)\n",
    "            dataset.to_netcdf(path=profile_name,mode='w')\n"
   ]
  },
  {
   "cell_type": "code",
   "execution_count": 13,
   "metadata": {},
   "outputs": [
    {
     "name": "stdout",
     "output_type": "stream",
     "text": [
      "Box_1\n",
      "Box_2\n",
      "Box_3\n",
      "Box_4\n",
      "Box_5\n",
      "Box_6\n",
      "Box_7\n",
      "Box_8\n",
      "Box_9\n",
      "Box_10\n",
      "Box_11\n",
      "Box_12\n",
      "Box_13\n",
      "Box_14\n",
      "CPU times: user 9.14 s, sys: 475 ms, total: 9.61 s\n",
      "Wall time: 10.5 s\n"
     ]
    }
   ],
   "source": [
    "%time compute_mean_dx_profile('vosaline','20090701')"
   ]
  },
  {
   "cell_type": "code",
   "execution_count": 14,
   "metadata": {},
   "outputs": [
    {
     "name": "stderr",
     "output_type": "stream",
     "text": [
      "distributed.utils_perf - WARNING - full garbage collections took 29% CPU time recently (threshold: 10%)\n",
      "distributed.utils_perf - WARNING - full garbage collections took 29% CPU time recently (threshold: 10%)\n",
      "distributed.utils_perf - WARNING - full garbage collections took 29% CPU time recently (threshold: 10%)\n",
      "distributed.utils_perf - WARNING - full garbage collections took 30% CPU time recently (threshold: 10%)\n",
      "distributed.utils_perf - WARNING - full garbage collections took 30% CPU time recently (threshold: 10%)\n",
      "distributed.utils_perf - WARNING - full garbage collections took 30% CPU time recently (threshold: 10%)\n",
      "distributed.utils_perf - WARNING - full garbage collections took 30% CPU time recently (threshold: 10%)\n",
      "distributed.utils_perf - WARNING - full garbage collections took 29% CPU time recently (threshold: 10%)\n",
      "distributed.utils_perf - WARNING - full garbage collections took 28% CPU time recently (threshold: 10%)\n"
     ]
    },
    {
     "name": "stdout",
     "output_type": "stream",
     "text": [
      "Box_1\n",
      "Box_2\n",
      "Box_3\n",
      "Box_4\n",
      "Box_5\n",
      "Box_6\n",
      "Box_7\n",
      "Box_8\n",
      "Box_9\n",
      "Box_10\n",
      "Box_11\n",
      "Box_12\n",
      "Box_13\n",
      "Box_14\n",
      "CPU times: user 9.61 s, sys: 456 ms, total: 10.1 s\n",
      "Wall time: 11 s\n"
     ]
    }
   ],
   "source": [
    "%time compute_mean_dx_profile('vozocrtx','20090701')"
   ]
  },
  {
   "cell_type": "code",
   "execution_count": 15,
   "metadata": {},
   "outputs": [
    {
     "name": "stderr",
     "output_type": "stream",
     "text": [
      "distributed.utils_perf - WARNING - full garbage collections took 26% CPU time recently (threshold: 10%)\n",
      "distributed.utils_perf - WARNING - full garbage collections took 26% CPU time recently (threshold: 10%)\n",
      "distributed.utils_perf - WARNING - full garbage collections took 26% CPU time recently (threshold: 10%)\n",
      "distributed.utils_perf - WARNING - full garbage collections took 26% CPU time recently (threshold: 10%)\n",
      "distributed.utils_perf - WARNING - full garbage collections took 27% CPU time recently (threshold: 10%)\n",
      "distributed.utils_perf - WARNING - full garbage collections took 28% CPU time recently (threshold: 10%)\n",
      "distributed.utils_perf - WARNING - full garbage collections took 31% CPU time recently (threshold: 10%)\n",
      "distributed.utils_perf - WARNING - full garbage collections took 31% CPU time recently (threshold: 10%)\n",
      "distributed.utils_perf - WARNING - full garbage collections took 31% CPU time recently (threshold: 10%)\n",
      "distributed.utils_perf - WARNING - full garbage collections took 31% CPU time recently (threshold: 10%)\n",
      "distributed.utils_perf - WARNING - full garbage collections took 30% CPU time recently (threshold: 10%)\n",
      "distributed.utils_perf - WARNING - full garbage collections took 29% CPU time recently (threshold: 10%)\n",
      "distributed.utils_perf - WARNING - full garbage collections took 28% CPU time recently (threshold: 10%)\n"
     ]
    },
    {
     "name": "stdout",
     "output_type": "stream",
     "text": [
      "Box_1\n",
      "Box_2\n",
      "Box_3\n",
      "Box_4\n",
      "Box_5\n",
      "Box_6\n",
      "Box_7\n",
      "Box_8\n",
      "Box_9\n",
      "Box_10\n",
      "Box_11\n",
      "Box_12\n",
      "Box_13\n",
      "Box_14\n",
      "CPU times: user 9.54 s, sys: 421 ms, total: 9.96 s\n",
      "Wall time: 10.9 s\n"
     ]
    }
   ],
   "source": [
    "%time compute_mean_dx_profile('vomecrty','20090701')"
   ]
  },
  {
   "cell_type": "code",
   "execution_count": 16,
   "metadata": {},
   "outputs": [
    {
     "name": "stderr",
     "output_type": "stream",
     "text": [
      "distributed.utils_perf - WARNING - full garbage collections took 26% CPU time recently (threshold: 10%)\n",
      "distributed.utils_perf - WARNING - full garbage collections took 27% CPU time recently (threshold: 10%)\n",
      "distributed.utils_perf - WARNING - full garbage collections took 27% CPU time recently (threshold: 10%)\n",
      "distributed.utils_perf - WARNING - full garbage collections took 28% CPU time recently (threshold: 10%)\n",
      "distributed.utils_perf - WARNING - full garbage collections took 31% CPU time recently (threshold: 10%)\n",
      "distributed.utils_perf - WARNING - full garbage collections took 32% CPU time recently (threshold: 10%)\n",
      "distributed.utils_perf - WARNING - full garbage collections took 31% CPU time recently (threshold: 10%)\n",
      "distributed.utils_perf - WARNING - full garbage collections took 30% CPU time recently (threshold: 10%)\n",
      "distributed.utils_perf - WARNING - full garbage collections took 30% CPU time recently (threshold: 10%)\n"
     ]
    },
    {
     "name": "stdout",
     "output_type": "stream",
     "text": [
      "Box_1\n",
      "Box_2\n",
      "Box_3\n",
      "Box_4\n",
      "Box_5\n",
      "Box_6\n",
      "Box_7\n",
      "Box_8\n",
      "Box_9\n",
      "Box_10\n",
      "Box_11\n",
      "Box_12\n",
      "Box_13\n",
      "Box_14\n",
      "CPU times: user 9.63 s, sys: 460 ms, total: 10.1 s\n",
      "Wall time: 11 s\n"
     ]
    }
   ],
   "source": [
    "%time compute_mean_dx_profile('vovecrtz','20090701')"
   ]
  },
  {
   "cell_type": "code",
   "execution_count": 17,
   "metadata": {
    "scrolled": false
   },
   "outputs": [
    {
     "name": "stderr",
     "output_type": "stream",
     "text": [
      "distributed.utils_perf - WARNING - full garbage collections took 28% CPU time recently (threshold: 10%)\n",
      "distributed.utils_perf - WARNING - full garbage collections took 28% CPU time recently (threshold: 10%)\n",
      "distributed.utils_perf - WARNING - full garbage collections took 28% CPU time recently (threshold: 10%)\n",
      "distributed.utils_perf - WARNING - full garbage collections took 28% CPU time recently (threshold: 10%)\n",
      "distributed.utils_perf - WARNING - full garbage collections took 28% CPU time recently (threshold: 10%)\n",
      "distributed.utils_perf - WARNING - full garbage collections took 29% CPU time recently (threshold: 10%)\n",
      "distributed.utils_perf - WARNING - full garbage collections took 29% CPU time recently (threshold: 10%)\n",
      "distributed.utils_perf - WARNING - full garbage collections took 28% CPU time recently (threshold: 10%)\n",
      "distributed.utils_perf - WARNING - full garbage collections took 30% CPU time recently (threshold: 10%)\n"
     ]
    },
    {
     "name": "stdout",
     "output_type": "stream",
     "text": [
      "Box_1\n",
      "Box_2\n",
      "Box_3\n",
      "Box_4\n",
      "Box_5\n",
      "Box_6\n",
      "Box_7\n",
      "Box_8\n",
      "Box_9\n",
      "Box_10\n",
      "Box_11\n",
      "Box_12\n",
      "Box_13\n",
      "Box_14\n",
      "CPU times: user 9.8 s, sys: 365 ms, total: 10.2 s\n",
      "Wall time: 10.9 s\n"
     ]
    },
    {
     "name": "stderr",
     "output_type": "stream",
     "text": [
      "distributed.utils_perf - WARNING - full garbage collections took 29% CPU time recently (threshold: 10%)\n",
      "distributed.utils_perf - WARNING - full garbage collections took 29% CPU time recently (threshold: 10%)\n",
      "distributed.utils_perf - WARNING - full garbage collections took 30% CPU time recently (threshold: 10%)\n",
      "distributed.utils_perf - WARNING - full garbage collections took 30% CPU time recently (threshold: 10%)\n",
      "distributed.utils_perf - WARNING - full garbage collections took 29% CPU time recently (threshold: 10%)\n",
      "distributed.utils_perf - WARNING - full garbage collections took 28% CPU time recently (threshold: 10%)\n",
      "distributed.utils_perf - WARNING - full garbage collections took 28% CPU time recently (threshold: 10%)\n"
     ]
    },
    {
     "name": "stdout",
     "output_type": "stream",
     "text": [
      "Box_1\n",
      "Box_2\n",
      "Box_3\n",
      "Box_4\n",
      "Box_5\n",
      "Box_6\n",
      "Box_7\n",
      "Box_8\n",
      "Box_9\n",
      "Box_10\n",
      "Box_11\n",
      "Box_12\n",
      "Box_13\n",
      "Box_14\n",
      "CPU times: user 9.48 s, sys: 391 ms, total: 9.87 s\n",
      "Wall time: 10.4 s\n"
     ]
    },
    {
     "name": "stderr",
     "output_type": "stream",
     "text": [
      "distributed.utils_perf - WARNING - full garbage collections took 27% CPU time recently (threshold: 10%)\n",
      "distributed.utils_perf - WARNING - full garbage collections took 26% CPU time recently (threshold: 10%)\n",
      "distributed.utils_perf - WARNING - full garbage collections took 27% CPU time recently (threshold: 10%)\n",
      "distributed.utils_perf - WARNING - full garbage collections took 28% CPU time recently (threshold: 10%)\n",
      "distributed.utils_perf - WARNING - full garbage collections took 28% CPU time recently (threshold: 10%)\n",
      "distributed.utils_perf - WARNING - full garbage collections took 29% CPU time recently (threshold: 10%)\n",
      "distributed.utils_perf - WARNING - full garbage collections took 29% CPU time recently (threshold: 10%)\n",
      "distributed.utils_perf - WARNING - full garbage collections took 28% CPU time recently (threshold: 10%)\n"
     ]
    },
    {
     "name": "stdout",
     "output_type": "stream",
     "text": [
      "Box_1\n",
      "Box_2\n",
      "Box_3\n",
      "Box_4\n",
      "Box_5\n",
      "Box_6\n",
      "Box_7\n",
      "Box_8\n",
      "Box_9\n",
      "Box_10\n",
      "Box_11\n",
      "Box_12\n",
      "Box_13\n",
      "Box_14\n",
      "CPU times: user 9.4 s, sys: 328 ms, total: 9.73 s\n",
      "Wall time: 10.4 s\n"
     ]
    },
    {
     "name": "stderr",
     "output_type": "stream",
     "text": [
      "distributed.utils_perf - WARNING - full garbage collections took 27% CPU time recently (threshold: 10%)\n",
      "distributed.utils_perf - WARNING - full garbage collections took 27% CPU time recently (threshold: 10%)\n",
      "distributed.utils_perf - WARNING - full garbage collections took 26% CPU time recently (threshold: 10%)\n",
      "distributed.utils_perf - WARNING - full garbage collections took 27% CPU time recently (threshold: 10%)\n",
      "distributed.utils_perf - WARNING - full garbage collections took 27% CPU time recently (threshold: 10%)\n",
      "distributed.utils_perf - WARNING - full garbage collections took 27% CPU time recently (threshold: 10%)\n",
      "distributed.utils_perf - WARNING - full garbage collections took 29% CPU time recently (threshold: 10%)\n",
      "distributed.utils_perf - WARNING - full garbage collections took 29% CPU time recently (threshold: 10%)\n",
      "distributed.utils_perf - WARNING - full garbage collections took 29% CPU time recently (threshold: 10%)\n",
      "distributed.utils_perf - WARNING - full garbage collections took 29% CPU time recently (threshold: 10%)\n",
      "distributed.utils_perf - WARNING - full garbage collections took 28% CPU time recently (threshold: 10%)\n",
      "distributed.utils_perf - WARNING - full garbage collections took 28% CPU time recently (threshold: 10%)\n",
      "distributed.utils_perf - WARNING - full garbage collections took 28% CPU time recently (threshold: 10%)\n"
     ]
    },
    {
     "name": "stdout",
     "output_type": "stream",
     "text": [
      "Box_1\n",
      "Box_2\n",
      "Box_3\n",
      "Box_4\n",
      "Box_5\n",
      "Box_6\n",
      "Box_7\n",
      "Box_8\n",
      "Box_9\n",
      "Box_10\n",
      "Box_11\n",
      "Box_12\n",
      "Box_13\n",
      "Box_14\n",
      "CPU times: user 10.1 s, sys: 444 ms, total: 10.5 s\n",
      "Wall time: 11.1 s\n"
     ]
    },
    {
     "name": "stderr",
     "output_type": "stream",
     "text": [
      "distributed.utils_perf - WARNING - full garbage collections took 27% CPU time recently (threshold: 10%)\n",
      "distributed.utils_perf - WARNING - full garbage collections took 28% CPU time recently (threshold: 10%)\n",
      "distributed.utils_perf - WARNING - full garbage collections took 29% CPU time recently (threshold: 10%)\n",
      "distributed.utils_perf - WARNING - full garbage collections took 29% CPU time recently (threshold: 10%)\n",
      "distributed.utils_perf - WARNING - full garbage collections took 29% CPU time recently (threshold: 10%)\n",
      "distributed.utils_perf - WARNING - full garbage collections took 29% CPU time recently (threshold: 10%)\n",
      "distributed.utils_perf - WARNING - full garbage collections took 29% CPU time recently (threshold: 10%)\n",
      "distributed.utils_perf - WARNING - full garbage collections took 30% CPU time recently (threshold: 10%)\n",
      "distributed.utils_perf - WARNING - full garbage collections took 30% CPU time recently (threshold: 10%)\n"
     ]
    },
    {
     "name": "stdout",
     "output_type": "stream",
     "text": [
      "Box_1\n",
      "Box_2\n",
      "Box_3\n",
      "Box_4\n",
      "Box_5\n",
      "Box_6\n",
      "Box_7\n",
      "Box_8\n",
      "Box_9\n",
      "Box_10\n",
      "Box_11\n",
      "Box_12\n"
     ]
    },
    {
     "name": "stderr",
     "output_type": "stream",
     "text": [
      "distributed.utils_perf - WARNING - full garbage collections took 29% CPU time recently (threshold: 10%)\n",
      "distributed.utils_perf - WARNING - full garbage collections took 28% CPU time recently (threshold: 10%)\n",
      "distributed.utils_perf - WARNING - full garbage collections took 26% CPU time recently (threshold: 10%)\n",
      "distributed.utils_perf - WARNING - full garbage collections took 26% CPU time recently (threshold: 10%)\n",
      "distributed.utils_perf - WARNING - full garbage collections took 26% CPU time recently (threshold: 10%)\n"
     ]
    },
    {
     "name": "stdout",
     "output_type": "stream",
     "text": [
      "Box_13\n"
     ]
    },
    {
     "name": "stderr",
     "output_type": "stream",
     "text": [
      "distributed.utils_perf - WARNING - full garbage collections took 26% CPU time recently (threshold: 10%)\n",
      "distributed.utils_perf - WARNING - full garbage collections took 25% CPU time recently (threshold: 10%)\n",
      "distributed.utils_perf - WARNING - full garbage collections took 25% CPU time recently (threshold: 10%)\n"
     ]
    },
    {
     "name": "stdout",
     "output_type": "stream",
     "text": [
      "Box_14\n"
     ]
    },
    {
     "name": "stderr",
     "output_type": "stream",
     "text": [
      "distributed.utils_perf - WARNING - full garbage collections took 25% CPU time recently (threshold: 10%)\n",
      "distributed.utils_perf - WARNING - full garbage collections took 25% CPU time recently (threshold: 10%)\n",
      "distributed.utils_perf - WARNING - full garbage collections took 22% CPU time recently (threshold: 10%)\n"
     ]
    },
    {
     "name": "stdout",
     "output_type": "stream",
     "text": [
      "CPU times: user 5min 27s, sys: 34.6 s, total: 6min 2s\n",
      "Wall time: 9min 22s\n"
     ]
    },
    {
     "name": "stderr",
     "output_type": "stream",
     "text": [
      "/scratch/cnt0024/hmg2840/albert7a/anaconda3/lib/python3.7/site-packages/distributed/scheduler.py:313: UserWarning: WorkerState.ncores has moved to WorkerState.nthreads\n",
      "  warnings.warn(\"WorkerState.ncores has moved to WorkerState.nthreads\")\n",
      "distributed.utils_perf - WARNING - full garbage collections took 11% CPU time recently (threshold: 10%)\n",
      "distributed.utils_perf - WARNING - full garbage collections took 10% CPU time recently (threshold: 10%)\n"
     ]
    }
   ],
   "source": [
    "%time compute_mean_dy_profile('votemper','20090701')\n",
    "%time compute_mean_dy_profile('vosaline','20090701')\n",
    "%time compute_mean_dy_profile('vozocrtx','20090701')\n",
    "%time compute_mean_dy_profile('vomecrty','20090701')\n",
    "%time compute_mean_dy_profile('vovecrtz','20090701')\n"
   ]
  },
  {
   "cell_type": "code",
   "execution_count": null,
   "metadata": {},
   "outputs": [],
   "source": []
  }
 ],
 "metadata": {
  "kernelspec": {
   "display_name": "Python 3",
   "language": "python",
   "name": "python3"
  },
  "language_info": {
   "codemirror_mode": {
    "name": "ipython",
    "version": 3
   },
   "file_extension": ".py",
   "mimetype": "text/x-python",
   "name": "python",
   "nbconvert_exporter": "python",
   "pygments_lexer": "ipython3",
   "version": "3.7.3"
  }
 },
 "nbformat": 4,
 "nbformat_minor": 2
}
