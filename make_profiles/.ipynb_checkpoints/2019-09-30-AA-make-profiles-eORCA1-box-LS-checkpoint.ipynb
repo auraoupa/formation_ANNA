{
 "cells": [
  {
   "cell_type": "code",
   "execution_count": 1,
   "metadata": {},
   "outputs": [
    {
     "name": "stderr",
     "output_type": "stream",
     "text": [
      "/scratch/cnt0024/hmg2840/albert7a/anaconda3/lib/python3.7/site-packages/distributed/dashboard/core.py:74: UserWarning: \n",
      "Failed to start diagnostics server on port 8787. [Errno 13] Permission denied\n",
      "  warnings.warn(\"\\n\" + msg)\n"
     ]
    }
   ],
   "source": [
    "from dask_jobqueue import SLURMCluster \n",
    "from dask.distributed import Client \n",
    "  \n",
    "cluster = SLURMCluster(cores=28,name='make_profiles',walltime='00:30:00',job_extra=['--constraint=HSW24','--exclusive','--nodes=1'],memory='120GB',interface='ib0') \n",
    "\n",
    "  "
   ]
  },
  {
   "cell_type": "code",
   "execution_count": 2,
   "metadata": {},
   "outputs": [],
   "source": [
    "cluster.scale(56) \n"
   ]
  },
  {
   "cell_type": "code",
   "execution_count": 3,
   "metadata": {},
   "outputs": [],
   "source": [
    "from dask.distributed import Client\n",
    "client = Client(cluster)\n"
   ]
  },
  {
   "cell_type": "code",
   "execution_count": 4,
   "metadata": {},
   "outputs": [
    {
     "data": {
      "application/vnd.jupyter.widget-view+json": {
       "model_id": "0e97904d05904c1380fb42a848611083",
       "version_major": 2,
       "version_minor": 0
      },
      "text/plain": [
       "VBox(children=(HTML(value='<h2>SLURMCluster</h2>'), HBox(children=(HTML(value='\\n<div>\\n  <style scoped>\\n    …"
      ]
     },
     "metadata": {},
     "output_type": "display_data"
    }
   ],
   "source": [
    "cluster"
   ]
  },
  {
   "cell_type": "code",
   "execution_count": 5,
   "metadata": {},
   "outputs": [
    {
     "data": {
      "text/html": [
       "<table style=\"border: 2px solid white;\">\n",
       "<tr>\n",
       "<td style=\"vertical-align: top; border: 0px solid white\">\n",
       "<h3>Client</h3>\n",
       "<ul>\n",
       "  <li><b>Scheduler: </b>tcp://172.30.100.3:35986\n",
       "  <li><b>Dashboard: </b><a href='http://172.30.100.3:46748/status' target='_blank'>http://172.30.100.3:46748/status</a>\n",
       "</ul>\n",
       "</td>\n",
       "<td style=\"vertical-align: top; border: 0px solid white\">\n",
       "<h3>Cluster</h3>\n",
       "<ul>\n",
       "  <li><b>Workers: </b>0</li>\n",
       "  <li><b>Cores: </b>0</li>\n",
       "  <li><b>Memory: </b>0 B</li>\n",
       "</ul>\n",
       "</td>\n",
       "</tr>\n",
       "</table>"
      ],
      "text/plain": [
       "<Client: scheduler='tcp://172.30.100.3:35986' processes=0 cores=0>"
      ]
     },
     "execution_count": 5,
     "metadata": {},
     "output_type": "execute_result"
    }
   ],
   "source": [
    "\n",
    "\n",
    "client\n",
    "\n"
   ]
  },
  {
   "cell_type": "code",
   "execution_count": 6,
   "metadata": {},
   "outputs": [],
   "source": [
    "import xarray as xr \n",
    "import dask \n",
    "import numpy as np \n",
    "import os \n",
    "import time \n",
    "import glob\n",
    "from datetime import date\n",
    "import pandas as pd\n",
    "\n",
    "today=date.today()"
   ]
  },
  {
   "cell_type": "code",
   "execution_count": 7,
   "metadata": {},
   "outputs": [],
   "source": [
    "data_dir = '/store/CT1/hmg2840/lbrodeau/eNATL60/eNATL60-BLBT02-S/'\n",
    "gridfile='/store/CT1/hmg2840/lbrodeau/eNATL60/eNATL60-I/mesh_mask_eNATL60_3.6_lev1.nc4'\n",
    "dsgrid=xr.open_dataset(gridfile,chunks={'x':1000,'y':1000})"
   ]
  },
  {
   "cell_type": "code",
   "execution_count": 8,
   "metadata": {},
   "outputs": [],
   "source": [
    "boxes_LS=pd.read_csv('../make_boxes/boxes_LS_1x1_eNATL60.csv',sep = '\\t',index_col=0)\n",
    "imin_LS=boxes_LS['imin']\n",
    "imax_LS=boxes_LS['imax']\n",
    "jmin_LS=boxes_LS['jmin']\n",
    "jmax_LS=boxes_LS['jmax']\n",
    "box_name=boxes_LS.index"
   ]
  },
  {
   "cell_type": "code",
   "execution_count": 9,
   "metadata": {},
   "outputs": [],
   "source": [
    "def dx_var(data,e1):\n",
    "    dx_var = (data.shift(x=-1) - data)/e1\n",
    "    return dx_var\n",
    "def dy_var(data,e2):\n",
    "    dy_var = (data.shift(y=-1) - data)/e2\n",
    "    return dy_var\n",
    "    "
   ]
  },
  {
   "cell_type": "code",
   "execution_count": 10,
   "metadata": {},
   "outputs": [],
   "source": [
    "def save_profile_dx(data_dx,data,var,imin,imax,jmin,jmax,profile_name,box):\n",
    "    if not os.path.exists(profile_name):\n",
    "            profile=data_dx[:,:,jmin:jmax,imin:imax].mean(dim={'x','y','time_counter'})\n",
    "            dataset=profile.to_dataset(name='dx'+var)\n",
    "            dataset['dx'+var].attrs=data.attrs\n",
    "            dataset['dx'+var].attrs['standard_name']='dx gradient of '+data.attrs['standard_name']\n",
    "            dataset['dx'+var].attrs['long_name']='dx_'+data.attrs['long_name']\n",
    "            dataset['dx'+var].attrs['units']='degC/m'        \n",
    "            dataset.attrs['global_attribute']= 'x-gradient of '+var+' profile averaged over 24h and in '+box+' computed on occigen with dask-jobqueue '+str(today)\n",
    "            dataset.to_netcdf(path=profile_name,mode='w')\n"
   ]
  },
  {
   "cell_type": "code",
   "execution_count": 11,
   "metadata": {},
   "outputs": [],
   "source": [
    "filetyps = {'votemper' : 'gridT', 'vosaline' : 'gridS','vozocrtx' : 'gridU', 'vomecrty' : 'gridV','vovecrtz' : 'gridW'}\n",
    "filedeps = {'votemper' : 'deptht','vosaline' : 'deptht','vozocrtx' : 'depthu', 'vomecrty' : 'depthv','vovecrtz':'depthw'}\n",
    "filee1 = {'votemper' : 'e1t','vosaline' : 'e1t','vozocrtx' : 'e1u', 'vomecrty' : 'e1v','vovecrtz':'e1f'}\n",
    "\n",
    "\n",
    "def compute_mean_dx_profile(var,date):\n",
    "    filename = sorted(glob.glob(data_dir+'*/eNATL60-BLBT02_1h_*_'+filetyps[var]+'_'+date+'-'+date+'.nc'))\n",
    "    file=filename[0]\n",
    "    ds=xr.open_dataset(file,chunks={'x':1000,'y':1000,'time_counter':1,filedeps[var]:1})\n",
    "    data=ds[str(var)]\n",
    "    e1=dsgrid[str(filee1[var])][0]\n",
    "    data_dx=dx_var(data,e1)\n",
    "    for i in range(len(box_name)):\n",
    "        box = box_name[i]\n",
    "        print(box)  \n",
    "        profile_name='/scratch/cnt0024/hmg2840/albert7a/eNATL60/eNATL60-BLBT02-S/ANNA/LS/eNATL60'+box+'-BLBT02_y'+date[0:4]+'m'+date[4:6]+'d'+date[6:9]+'_dx'+var+'-profile.nc'\n",
    "        %time save_profile_dx(data_dx,data,var,imin_LS[i],imax_LS[i],jmin_LS[i],jmax_LS[i],profile_name,box)"
   ]
  },
  {
   "cell_type": "code",
   "execution_count": 12,
   "metadata": {
    "scrolled": false
   },
   "outputs": [
    {
     "name": "stdout",
     "output_type": "stream",
     "text": [
      "Box_0\n",
      "CPU times: user 1.25 ms, sys: 1.08 ms, total: 2.33 ms\n",
      "Wall time: 1.51 ms\n",
      "Box_1\n",
      "CPU times: user 430 µs, sys: 0 ns, total: 430 µs\n",
      "Wall time: 357 µs\n",
      "Box_2\n",
      "CPU times: user 193 µs, sys: 0 ns, total: 193 µs\n",
      "Wall time: 156 µs\n",
      "Box_3\n",
      "CPU times: user 461 µs, sys: 0 ns, total: 461 µs\n",
      "Wall time: 365 µs\n",
      "Box_4\n",
      "CPU times: user 307 µs, sys: 0 ns, total: 307 µs\n",
      "Wall time: 244 µs\n",
      "Box_5\n",
      "CPU times: user 336 µs, sys: 0 ns, total: 336 µs\n",
      "Wall time: 266 µs\n",
      "Box_6\n",
      "CPU times: user 146 µs, sys: 0 ns, total: 146 µs\n",
      "Wall time: 115 µs\n",
      "Box_7\n",
      "CPU times: user 256 µs, sys: 0 ns, total: 256 µs\n",
      "Wall time: 204 µs\n",
      "Box_8\n",
      "CPU times: user 464 µs, sys: 0 ns, total: 464 µs\n",
      "Wall time: 389 µs\n",
      "Box_9\n",
      "CPU times: user 304 µs, sys: 0 ns, total: 304 µs\n",
      "Wall time: 240 µs\n",
      "Box_10\n",
      "CPU times: user 0 ns, sys: 305 µs, total: 305 µs\n",
      "Wall time: 242 µs\n",
      "Box_11\n",
      "CPU times: user 302 µs, sys: 0 ns, total: 302 µs\n",
      "Wall time: 240 µs\n",
      "Box_12\n",
      "CPU times: user 314 µs, sys: 22 µs, total: 336 µs\n",
      "Wall time: 254 µs\n",
      "Box_13\n",
      "CPU times: user 248 µs, sys: 40 µs, total: 288 µs\n",
      "Wall time: 230 µs\n",
      "Box_14\n",
      "CPU times: user 0 ns, sys: 309 µs, total: 309 µs\n",
      "Wall time: 246 µs\n",
      "Box_15\n",
      "CPU times: user 307 µs, sys: 0 ns, total: 307 µs\n",
      "Wall time: 241 µs\n",
      "Box_16\n",
      "CPU times: user 288 µs, sys: 15 µs, total: 303 µs\n",
      "Wall time: 238 µs\n",
      "Box_17\n",
      "CPU times: user 303 µs, sys: 0 ns, total: 303 µs\n",
      "Wall time: 238 µs\n",
      "Box_18\n",
      "CPU times: user 295 µs, sys: 0 ns, total: 295 µs\n",
      "Wall time: 231 µs\n",
      "Box_19\n",
      "CPU times: user 317 µs, sys: 0 ns, total: 317 µs\n",
      "Wall time: 251 µs\n",
      "Box_20\n",
      "CPU times: user 303 µs, sys: 8 µs, total: 311 µs\n",
      "Wall time: 246 µs\n",
      "Box_21\n",
      "CPU times: user 308 µs, sys: 0 ns, total: 308 µs\n",
      "Wall time: 241 µs\n",
      "Box_22\n",
      "CPU times: user 326 µs, sys: 0 ns, total: 326 µs\n",
      "Wall time: 262 µs\n",
      "Box_23\n",
      "CPU times: user 290 µs, sys: 11 µs, total: 301 µs\n",
      "Wall time: 235 µs\n",
      "Box_24\n",
      "CPU times: user 305 µs, sys: 0 ns, total: 305 µs\n",
      "Wall time: 239 µs\n",
      "Box_25\n",
      "CPU times: user 306 µs, sys: 0 ns, total: 306 µs\n",
      "Wall time: 242 µs\n",
      "Box_26\n",
      "CPU times: user 297 µs, sys: 5 µs, total: 302 µs\n",
      "Wall time: 237 µs\n",
      "Box_27\n",
      "CPU times: user 303 µs, sys: 0 ns, total: 303 µs\n",
      "Wall time: 238 µs\n",
      "Box_28\n",
      "CPU times: user 298 µs, sys: 26 µs, total: 324 µs\n",
      "Wall time: 242 µs\n",
      "Box_29\n",
      "CPU times: user 244 µs, sys: 0 ns, total: 244 µs\n",
      "Wall time: 193 µs\n",
      "Box_30\n",
      "CPU times: user 303 µs, sys: 0 ns, total: 303 µs\n",
      "Wall time: 238 µs\n",
      "Box_31\n",
      "CPU times: user 309 µs, sys: 0 ns, total: 309 µs\n",
      "Wall time: 244 µs\n",
      "Box_32\n",
      "CPU times: user 298 µs, sys: 5 µs, total: 303 µs\n",
      "Wall time: 237 µs\n",
      "Box_33\n",
      "CPU times: user 302 µs, sys: 0 ns, total: 302 µs\n",
      "Wall time: 236 µs\n",
      "Box_34\n",
      "CPU times: user 310 µs, sys: 0 ns, total: 310 µs\n",
      "Wall time: 244 µs\n",
      "Box_35\n",
      "CPU times: user 297 µs, sys: 5 µs, total: 302 µs\n",
      "Wall time: 237 µs\n",
      "Box_36\n",
      "CPU times: user 303 µs, sys: 0 ns, total: 303 µs\n",
      "Wall time: 238 µs\n",
      "Box_37\n",
      "CPU times: user 308 µs, sys: 0 ns, total: 308 µs\n",
      "Wall time: 243 µs\n",
      "Box_38\n",
      "CPU times: user 297 µs, sys: 4 µs, total: 301 µs\n",
      "Wall time: 237 µs\n",
      "Box_39\n",
      "CPU times: user 324 µs, sys: 0 ns, total: 324 µs\n",
      "Wall time: 257 µs\n",
      "Box_40\n",
      "CPU times: user 279 µs, sys: 23 µs, total: 302 µs\n",
      "Wall time: 237 µs\n",
      "Box_41\n",
      "CPU times: user 301 µs, sys: 0 ns, total: 301 µs\n",
      "Wall time: 236 µs\n",
      "Box_42\n",
      "CPU times: user 304 µs, sys: 0 ns, total: 304 µs\n",
      "Wall time: 239 µs\n",
      "Box_43\n",
      "CPU times: user 288 µs, sys: 12 µs, total: 300 µs\n",
      "Wall time: 235 µs\n",
      "Box_44\n",
      "CPU times: user 417 µs, sys: 0 ns, total: 417 µs\n",
      "Wall time: 347 µs\n",
      "Box_45\n",
      "CPU times: user 305 µs, sys: 0 ns, total: 305 µs\n",
      "Wall time: 240 µs\n",
      "Box_46\n",
      "CPU times: user 307 µs, sys: 0 ns, total: 307 µs\n",
      "Wall time: 242 µs\n",
      "Box_47\n",
      "CPU times: user 299 µs, sys: 5 µs, total: 304 µs\n",
      "Wall time: 239 µs\n",
      "Box_48\n",
      "CPU times: user 305 µs, sys: 0 ns, total: 305 µs\n",
      "Wall time: 239 µs\n",
      "Box_49\n",
      "CPU times: user 391 µs, sys: 0 ns, total: 391 µs\n",
      "Wall time: 612 µs\n",
      "Box_50\n",
      "CPU times: user 456 µs, sys: 0 ns, total: 456 µs\n",
      "Wall time: 608 µs\n",
      "Box_51\n",
      "CPU times: user 436 µs, sys: 0 ns, total: 436 µs\n",
      "Wall time: 618 µs\n",
      "Box_52\n",
      "CPU times: user 431 µs, sys: 0 ns, total: 431 µs\n",
      "Wall time: 620 µs\n",
      "Box_53\n",
      "CPU times: user 434 µs, sys: 0 ns, total: 434 µs\n",
      "Wall time: 574 µs\n",
      "Box_54\n",
      "CPU times: user 425 µs, sys: 46 µs, total: 471 µs\n",
      "Wall time: 706 µs\n",
      "Box_55\n",
      "CPU times: user 678 µs, sys: 0 ns, total: 678 µs\n",
      "Wall time: 627 µs\n",
      "Box_56\n",
      "CPU times: user 0 ns, sys: 443 µs, total: 443 µs\n",
      "Wall time: 627 µs\n",
      "Box_57\n",
      "CPU times: user 472 µs, sys: 0 ns, total: 472 µs\n",
      "Wall time: 702 µs\n",
      "Box_58\n",
      "CPU times: user 493 µs, sys: 0 ns, total: 493 µs\n",
      "Wall time: 616 µs\n",
      "Box_59\n",
      "CPU times: user 1min 12s, sys: 7.62 s, total: 1min 19s\n",
      "Wall time: 1min 23s\n",
      "Box_60\n",
      "CPU times: user 1.9 ms, sys: 102 µs, total: 2 ms\n",
      "Wall time: 1.28 ms\n",
      "Box_61\n",
      "CPU times: user 2min 6s, sys: 11.1 s, total: 2min 17s\n",
      "Wall time: 2min 14s\n",
      "Box_62\n",
      "CPU times: user 58 s, sys: 4.46 s, total: 1min 2s\n",
      "Wall time: 1min 1s\n",
      "Box_63\n",
      "CPU times: user 1min 32s, sys: 5.63 s, total: 1min 38s\n",
      "Wall time: 1min 36s\n",
      "Box_64\n",
      "CPU times: user 1min 30s, sys: 6.29 s, total: 1min 36s\n",
      "Wall time: 1min 38s\n",
      "Box_65\n",
      "CPU times: user 54.9 s, sys: 4.29 s, total: 59.2 s\n",
      "Wall time: 1min 2s\n",
      "CPU times: user 8min 24s, sys: 40 s, total: 9min 4s\n",
      "Wall time: 9min 30s\n"
     ]
    }
   ],
   "source": [
    "%time compute_mean_dx_profile('votemper','20090701')"
   ]
  },
  {
   "cell_type": "code",
   "execution_count": 13,
   "metadata": {},
   "outputs": [],
   "source": [
    "filetyps = {'votemper' : 'gridT', 'vosaline' : 'gridS','vozocrtx' : 'gridU', 'vomecrty' : 'gridV','vovecrtz' : 'gridW'}\n",
    "filedeps = {'votemper' : 'deptht','vosaline' : 'deptht','vozocrtx' : 'depthu', 'vomecrty' : 'depthv','vovecrtz':'depthw'}\n",
    "filee2 = {'votemper' : 'e2t','vosaline' : 'e2t','vozocrtx' : 'e2u', 'vomecrty' : 'e2v','vovecrtz':'e2f'}\n",
    "\n",
    "\n",
    "def compute_mean_dy_profile(var,date):\n",
    "    filename = sorted(glob.glob(data_dir+'*/eNATL60-BLBT02_1h_*_'+filetyps[var]+'_'+date+'-'+date+'.nc'))\n",
    "    file=filename[0]\n",
    "    ds=xr.open_dataset(file,chunks={'x':1000,'y':1000,'time_counter':1,filedeps[var]:1})\n",
    "    data=ds[str(var)]\n",
    "    e2=dsgrid[str(filee2[var])][0]\n",
    "    data_dy=dy_var(data,e2)\n",
    "    for i in range(len(box_name)):\n",
    "        box = box_name[i]\n",
    "        print(box)  \n",
    "        profile_name='/scratch/cnt0024/hmg2840/albert7a/eNATL60/eNATL60-BLBT02-S/ANNA/LS/eNATL60'+box.name+'-BLBT02_y'+date[0:4]+'m'+date[4:6]+'d'+date[6:9]+'_dy'+var+'-profile.nc'\n",
    "        if not os.path.exists(profile_name):\n",
    "            profile=data_dy[:,:,jmin_LS[i]:jmax_LS[i],imin_LS[i]:imax_LS[i]].mean(dim={'x','y','time_counter'})\n",
    "            dataset=profile.to_dataset(name='dy'+var)\n",
    "            dataset['dy'+var].attrs=data.attrs\n",
    "            dataset['dy'+var].attrs['standard_name']='dy gradient of '+data.attrs['standard_name']\n",
    "            dataset['dy'+var].attrs['long_name']='dy_'+data.attrs['long_name']\n",
    "            dataset['dy'+var].attrs['units']='degC/m'        \n",
    "            dataset.attrs['global_attribute']= 'y-gradient of '+var+' profile averaged over 24h and in '+box+' computed on occigen with dask-jobqueue '+str(today)\n",
    "            dataset.to_netcdf(path=profile_name,mode='w')\n"
   ]
  },
  {
   "cell_type": "code",
   "execution_count": null,
   "metadata": {},
   "outputs": [
    {
     "name": "stdout",
     "output_type": "stream",
     "text": [
      "Box_0\n"
     ]
    }
   ],
   "source": [
    "%time compute_mean_dx_profile('vosaline','20090701')"
   ]
  },
  {
   "cell_type": "code",
   "execution_count": null,
   "metadata": {},
   "outputs": [],
   "source": [
    "%time compute_mean_dx_profile('vozocrtx','20090701')"
   ]
  },
  {
   "cell_type": "code",
   "execution_count": null,
   "metadata": {},
   "outputs": [],
   "source": [
    "%time compute_mean_dx_profile('vomecrty','20090701')"
   ]
  },
  {
   "cell_type": "code",
   "execution_count": null,
   "metadata": {},
   "outputs": [],
   "source": [
    "%time compute_mean_dx_profile('vovecrtz','20090701')"
   ]
  },
  {
   "cell_type": "code",
   "execution_count": null,
   "metadata": {
    "scrolled": false
   },
   "outputs": [],
   "source": [
    "%time compute_mean_dy_profile('votemper','20090701')\n",
    "%time compute_mean_dy_profile('vosaline','20090701')\n",
    "%time compute_mean_dy_profile('vozocrtx','20090701')\n",
    "%time compute_mean_dy_profile('vomecrty','20090701')\n",
    "%time compute_mean_dy_profile('vovecrtz','20090701')\n"
   ]
  },
  {
   "cell_type": "code",
   "execution_count": null,
   "metadata": {},
   "outputs": [],
   "source": []
  }
 ],
 "metadata": {
  "kernelspec": {
   "display_name": "Python 3",
   "language": "python",
   "name": "python3"
  },
  "language_info": {
   "codemirror_mode": {
    "name": "ipython",
    "version": 3
   },
   "file_extension": ".py",
   "mimetype": "text/x-python",
   "name": "python",
   "nbconvert_exporter": "python",
   "pygments_lexer": "ipython3",
   "version": "3.7.3"
  }
 },
 "nbformat": 4,
 "nbformat_minor": 2
}
