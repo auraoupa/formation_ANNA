{
 "cells": [
  {
   "cell_type": "code",
   "execution_count": 1,
   "metadata": {},
   "outputs": [],
   "source": [
    "import xarray as xr \n",
    "import dask \n",
    "import numpy as np \n",
    "import os \n",
    "import time \n",
    "import glob\n",
    "from datetime import date\n",
    "import pandas as pd\n",
    "\n",
    "today=date.today()\n",
    "\n",
    "import sys\n",
    "sys.path.insert(0,'/home/albert7a/git/xscale')\n",
    "import xscale"
   ]
  },
  {
   "cell_type": "code",
   "execution_count": 2,
   "metadata": {},
   "outputs": [],
   "source": [
    "data_dir = '/store/CT1/hmg2840/lbrodeau/eNATL60/eNATL60-BLBT02-S/'\n",
    "gridfile='/store/CT1/hmg2840/lbrodeau/eNATL60/eNATL60-I/mesh_mask_eNATL60_3.6_lev1.nc4'\n",
    "dsgrid=xr.open_dataset(gridfile,chunks={'x':1000,'y':1000})"
   ]
  },
  {
   "cell_type": "code",
   "execution_count": 3,
   "metadata": {},
   "outputs": [],
   "source": [
    "boxes_LS=pd.read_csv('../make_boxes/boxes_LS_1x1_eNATL60.csv',sep = '\\t',index_col=0)\n",
    "imin_LS=boxes_LS['imin']\n",
    "imax_LS=boxes_LS['imax']\n",
    "jmin_LS=boxes_LS['jmin']\n",
    "jmax_LS=boxes_LS['jmax']\n",
    "box_name=boxes_LS.index\n"
   ]
  },
  {
   "cell_type": "code",
   "execution_count": 4,
   "metadata": {},
   "outputs": [],
   "source": [
    "def compute_buoy(t,s):\n",
    "    rau0  = 1000\n",
    "    grav  = 9.81\n",
    "    buoy= -1*(grav/rau0)*sigma0(t,s)\n",
    "    return buoy\n",
    "\n",
    "def sigma0(t,s):\n",
    "    zrau0=1000\n",
    "    zsr=np.sqrt(np.abs(s))\n",
    "    zs=s\n",
    "    zt=t\n",
    "    zr1 = ( ( ( ( 6.536332e-9*zt-1.120083e-6 )*zt+1.001685e-4)*zt - 9.095290e-3 )*zt+6.793952e-2 )*zt+999.842594\n",
    "    zr2= ( ( ( 5.3875e-9*zt-8.2467e-7 )*zt+7.6438e-5 ) *zt - 4.0899e-3 ) *zt+0.824493\n",
    "    zr3= ( -1.6546e-6*zt+1.0227e-4 ) *zt-5.72466e-3\n",
    "    zr4= 4.8314e-4\n",
    "    sigma0=( zr4*zs + zr3*zsr + zr2 ) *zs + zr1 - zrau0\n",
    "    return sigma0\n",
    "\n",
    "def filt(w):\n",
    "    win_box2D = w.window\n",
    "    win_box2D.set(window='hanning', cutoff=20, dim=['x', 'y'], n=[30, 30])\n",
    "    bw = win_box2D.boundary_weights(drop_dims=[])\n",
    "    w_LS = win_box2D.convolve(weights=bw)\n",
    "    w_SS=w-w_LS\n",
    "    return w_SS\n",
    "\n",
    "\n"
   ]
  },
  {
   "cell_type": "code",
   "execution_count": 5,
   "metadata": {},
   "outputs": [],
   "source": [
    "def compute_mean_wprime_bprime(date,ibox):\n",
    "    print('read the data')\n",
    "    tfilename = sorted(glob.glob(data_dir+'*/eNATL60-BLBT02_1h_*_gridT_'+date+'-'+date+'.nc'))\n",
    "    tfile=tfilename[0]\n",
    "    dst=xr.open_dataset(tfile,chunks={'x':1000,'y':1000,'time_counter':1,'deptht':1})\n",
    "    tdata=dst['votemper']\n",
    "    sfilename = sorted(glob.glob(data_dir+'*/eNATL60-BLBT02_1h_*_gridS_'+date+'-'+date+'.nc'))\n",
    "    sfile=sfilename[0]\n",
    "    dss=xr.open_dataset(sfile,chunks={'x':1000,'y':1000,'time_counter':1,'deptht':1})\n",
    "    sdata=dss['vosaline']\n",
    "    wfilename = sorted(glob.glob(data_dir+'*/eNATL60-BLBT02_1h_*_gridW_'+date+'-'+date+'.nc'))\n",
    "    wfile=wfilename[0]\n",
    "    dsw=xr.open_dataset(wfile,chunks={'x':1000,'y':1000,'time_counter':1,'depthw':1})\n",
    "    wdata=dsw['vovecrtz']\n",
    "    print('compute buoyancy')\n",
    "    buoy=compute_buoy(tdata,sdata)\n",
    "    print('filter w')\n",
    "    wprime=filt(wdata)\n",
    "    print('filter buoyancy')\n",
    "    bprime=filt(buoy)\n",
    "    wprimebprime=wprime*bprime\n",
    "    profile=wprimebprime[:,:,jmin_LS[ibox]:jmax_LS[ibox],imin_LS[ibox]:imax_LS[ibox]].mean(dim={'x','y','time_counter'})\n",
    "    print('to dataset')\n",
    "    profile_name='/scratch/cnt0024/hmg2840/albert7a/eNATL60/eNATL60-BLBT02-S/ANNA/LS/eNATL60LS'+box_name[ibox]+'-BLBT02_y'+date[0:4]+'m'+date[4:6]+'d'+date[6:9]+'_wprimebprime-profile.nc'\n",
    "    dataset=profile.to_dataset(name='wprimebprime')\n",
    "    dataset['wprimebprime'].attrs=tdata.attrs\n",
    "    dataset['wprimebprime'].attrs['standard_name']='vertical flux of small scales buoyancy' \n",
    "    dataset['wprimebprime'].attrs['long_name']='wprimebprime'\n",
    "    dataset['wprimebprime'].attrs['units']='m2/s3'        \n",
    "    dataset.attrs['global_attribute']= 'vertical flux of small scales buoyancy profile averaged over 24h and in '+box_name[ibox]+' computed on occigen with dask-jobqueue '+str(today)\n",
    "    print('to netcdf')\n",
    "    dataset.to_netcdf(path=profile_name,mode='w')\n",
    "    return profile"
   ]
  },
  {
   "cell_type": "code",
   "execution_count": null,
   "metadata": {},
   "outputs": [
    {
     "name": "stdout",
     "output_type": "stream",
     "text": [
      "read the data\n",
      "compute buoyancy\n",
      "filter w\n",
      "filter buoyancy\n"
     ]
    },
    {
     "name": "stderr",
     "output_type": "stream",
     "text": [
      "/scratch/cnt0024/hmg2840/albert7a/anaconda3/lib/python3.7/site-packages/dask/array/core.py:3684: PerformanceWarning: Increasing number of chunks by factor of 300\n",
      "  **blockwise_kwargs\n"
     ]
    },
    {
     "name": "stdout",
     "output_type": "stream",
     "text": [
      "to dataset\n",
      "to netcdf\n"
     ]
    }
   ],
   "source": [
    "%time wprimebprime=compute_mean_wprime_bprime('20090701',0)"
   ]
  },
  {
   "cell_type": "code",
   "execution_count": null,
   "metadata": {},
   "outputs": [],
   "source": []
  }
 ],
 "metadata": {
  "kernelspec": {
   "display_name": "Python 3",
   "language": "python",
   "name": "python3"
  },
  "language_info": {
   "codemirror_mode": {
    "name": "ipython",
    "version": 3
   },
   "file_extension": ".py",
   "mimetype": "text/x-python",
   "name": "python",
   "nbconvert_exporter": "python",
   "pygments_lexer": "ipython3",
   "version": "3.7.3"
  }
 },
 "nbformat": 4,
 "nbformat_minor": 2
}
