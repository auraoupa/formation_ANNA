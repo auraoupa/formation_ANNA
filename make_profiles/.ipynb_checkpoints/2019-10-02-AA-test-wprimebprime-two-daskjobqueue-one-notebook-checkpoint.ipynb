{
 "cells": [
  {
   "cell_type": "code",
   "execution_count": 2,
   "metadata": {},
   "outputs": [
    {
     "name": "stderr",
     "output_type": "stream",
     "text": [
      "/scratch/cnt0024/hmg2840/albert7a/anaconda3/lib/python3.7/site-packages/distributed/dashboard/core.py:74: UserWarning: \n",
      "Failed to start diagnostics server on port 8787. [Errno 13] Permission denied\n",
      "  warnings.warn(\"\\n\" + msg)\n"
     ]
    },
    {
     "data": {
      "text/html": [
       "<table style=\"border: 2px solid white;\">\n",
       "<tr>\n",
       "<td style=\"vertical-align: top; border: 0px solid white\">\n",
       "<h3>Client</h3>\n",
       "<ul>\n",
       "  <li><b>Scheduler: </b>tcp://127.0.0.1:41288\n",
       "  <li><b>Dashboard: </b><a href='http://127.0.0.1:35408/status' target='_blank'>http://127.0.0.1:35408/status</a>\n",
       "</ul>\n",
       "</td>\n",
       "<td style=\"vertical-align: top; border: 0px solid white\">\n",
       "<h3>Cluster</h3>\n",
       "<ul>\n",
       "  <li><b>Workers: </b>8</li>\n",
       "  <li><b>Cores: </b>48</li>\n",
       "  <li><b>Memory: </b>134.91 GB</li>\n",
       "</ul>\n",
       "</td>\n",
       "</tr>\n",
       "</table>"
      ],
      "text/plain": [
       "<Client: scheduler='tcp://127.0.0.1:41288' processes=8 cores=48>"
      ]
     },
     "execution_count": 2,
     "metadata": {},
     "output_type": "execute_result"
    }
   ],
   "source": [
    "import dask\n",
    "import dask.threaded\n",
    "import dask.multiprocessing\n",
    "from dask.distributed import Client\n",
    "\n",
    "c = Client()\n",
    "c"
   ]
  },
  {
   "cell_type": "code",
   "execution_count": 3,
   "metadata": {},
   "outputs": [],
   "source": [
    "import xarray as xr \n",
    "import dask \n",
    "import numpy as np \n",
    "import os \n",
    "import time \n",
    "import glob\n",
    "import datetime\n",
    "import pandas as pd\n",
    "import sys\n",
    "\n",
    "today=datetime.date.today()\n",
    "\n",
    "import sys\n",
    "sys.path.insert(0,'/home/albert7a/git/xscale')\n",
    "import xscale"
   ]
  },
  {
   "cell_type": "code",
   "execution_count": 4,
   "metadata": {},
   "outputs": [],
   "source": [
    "data_dir = '/store/CT1/hmg2840/lbrodeau/eNATL60/eNATL60-BLBT02-S/'\n",
    "gridfile='/store/CT1/hmg2840/lbrodeau/eNATL60/eNATL60-I/mesh_mask_eNATL60_3.6_lev1.nc4'\n",
    "dsgrid=xr.open_dataset(gridfile,chunks={'x':1000,'y':1000})\n"
   ]
  },
  {
   "cell_type": "code",
   "execution_count": 5,
   "metadata": {},
   "outputs": [],
   "source": [
    "def read_csv(box):\n",
    "    boxes=pd.read_csv('/home/albert7a/git/formation_ANNA/make_boxes/boxes_'+str(box)+'_1x1_eNATL60.csv',sep = '\\t',index_col=0)\n",
    "    imin=boxes['imin']\n",
    "    imax=boxes['imax']\n",
    "    jmin=boxes['jmin']\n",
    "    jmax=boxes['jmax']\n",
    "    box_name=boxes.index\n",
    "    return imin,imax,jmin,jmax,box_name\n",
    "\n",
    "def compute_buoy(t,s):\n",
    "    rau0  = 1000\n",
    "    grav  = 9.81\n",
    "    buoy= -1*(grav/rau0)*sigma0(t,s)\n",
    "    return buoy\n",
    "\n",
    "def sigma0(t,s):\n",
    "    zrau0=1000\n",
    "    zsr=np.sqrt(np.abs(s))\n",
    "    zs=s\n",
    "    zt=t\n",
    "    zr1 = ( ( ( ( 6.536332e-9*zt-1.120083e-6 )*zt+1.001685e-4)*zt - 9.095290e-3 )*zt+6.793952e-2 )*zt+999.842594\n",
    "    zr2= ( ( ( 5.3875e-9*zt-8.2467e-7 )*zt+7.6438e-5 ) *zt - 4.0899e-3 ) *zt+0.824493\n",
    "    zr3= ( -1.6546e-6*zt+1.0227e-4 ) *zt-5.72466e-3\n",
    "    zr4= 4.8314e-4\n",
    "    sigma0=( zr4*zs + zr3*zsr + zr2 ) *zs + zr1 - zrau0\n",
    "    return sigma0\n",
    "\n",
    "def filt(w):\n",
    "    win_box2D = w.window\n",
    "    win_box2D.set(window='hanning', cutoff=20, dim=['x', 'y'], n=[30, 30])\n",
    "    bw = win_box2D.boundary_weights(drop_dims=[])\n",
    "    w_LS = win_box2D.convolve(weights=bw)\n",
    "    w_SS=w-w_LS\n",
    "    return w_SS\n"
   ]
  },
  {
   "cell_type": "code",
   "execution_count": 6,
   "metadata": {},
   "outputs": [],
   "source": [
    "def compute_wprime_bprime(date):\n",
    "    print('read the data')\n",
    "    tfilename = sorted(glob.glob(data_dir+'*/eNATL60-BLBT02_1h_*_gridT_'+date+'-'+date+'.nc'))\n",
    "    tfile=tfilename[0]\n",
    "    dst=xr.open_dataset(tfile,chunks={'x':1000,'y':1000,'time_counter':1,'deptht':1})\n",
    "    tdata=dst['votemper']\n",
    "    sfilename = sorted(glob.glob(data_dir+'*/eNATL60-BLBT02_1h_*_gridS_'+date+'-'+date+'.nc'))\n",
    "    sfile=sfilename[0]\n",
    "    dss=xr.open_dataset(sfile,chunks={'x':1000,'y':1000,'time_counter':1,'deptht':1})\n",
    "    sdata=dss['vosaline']\n",
    "    wfilename = sorted(glob.glob(data_dir+'*/eNATL60-BLBT02_1h_*_gridW_'+date+'-'+date+'.nc'))\n",
    "    wfile=wfilename[0]\n",
    "    dsw=xr.open_dataset(wfile,chunks={'x':1000,'y':1000,'time_counter':1,'depthw':1})\n",
    "    wdata=dsw['vovecrtz']\n",
    "    wdata_t=wdata.rename({'depthw':'deptht'})\n",
    "    print('compute buoyancy')\n",
    "    buoy=compute_buoy(tdata,sdata)\n",
    "    print('filter w')\n",
    "    wprime=filt(wdata_t)\n",
    "    print('filter buoyancy')\n",
    "    bprime=filt(buoy)\n",
    "    wprimebprime=wprime*bprime\n",
    "    return wprimebprime"
   ]
  },
  {
   "cell_type": "code",
   "execution_count": 7,
   "metadata": {},
   "outputs": [
    {
     "name": "stdout",
     "output_type": "stream",
     "text": [
      "read the data\n",
      "compute buoyancy\n",
      "filter w\n"
     ]
    },
    {
     "name": "stderr",
     "output_type": "stream",
     "text": [
      "distributed.comm.tcp - WARNING - Closing dangling stream in <TCP  local=tcp://127.0.0.1:34254 remote=tcp://127.0.0.1:41288>\n",
      "distributed.comm.tcp - WARNING - Closing dangling stream in <TCP  local=tcp://127.0.0.1:34474 remote=tcp://127.0.0.1:41288>\n",
      "distributed.comm.tcp - WARNING - Closing dangling stream in <TCP  local=tcp://127.0.0.1:34584 remote=tcp://127.0.0.1:41288>\n",
      "distributed.comm.tcp - WARNING - Closing dangling stream in <TCP  local=tcp://127.0.0.1:34588 remote=tcp://127.0.0.1:41288>\n",
      "distributed.comm.tcp - WARNING - Closing dangling stream in <TCP  local=tcp://127.0.0.1:34594 remote=tcp://127.0.0.1:41288>\n",
      "distributed.comm.tcp - WARNING - Closing dangling stream in <TCP  local=tcp://127.0.0.1:34600 remote=tcp://127.0.0.1:41288>\n",
      "distributed.comm.tcp - WARNING - Closing dangling stream in <TCP  local=tcp://127.0.0.1:34610 remote=tcp://127.0.0.1:41288>\n",
      "distributed.comm.tcp - WARNING - Closing dangling stream in <TCP  local=tcp://127.0.0.1:34612 remote=tcp://127.0.0.1:41288>\n",
      "distributed.comm.tcp - WARNING - Closing dangling stream in <TCP  local=tcp://127.0.0.1:34618 remote=tcp://127.0.0.1:41288>\n",
      "distributed.comm.tcp - WARNING - Closing dangling stream in <TCP  local=tcp://127.0.0.1:34626 remote=tcp://127.0.0.1:41288>\n",
      "distributed.comm.tcp - WARNING - Closing dangling stream in <TCP  local=tcp://127.0.0.1:34632 remote=tcp://127.0.0.1:41288>\n",
      "distributed.comm.tcp - WARNING - Closing dangling stream in <TCP  local=tcp://127.0.0.1:34642 remote=tcp://127.0.0.1:41288>\n",
      "distributed.comm.tcp - WARNING - Closing dangling stream in <TCP  local=tcp://127.0.0.1:41194 remote=tcp://127.0.0.1:41288>\n",
      "distributed.comm.tcp - WARNING - Closing dangling stream in <TCP  local=tcp://127.0.0.1:41200 remote=tcp://127.0.0.1:41288>\n"
     ]
    },
    {
     "name": "stdout",
     "output_type": "stream",
     "text": [
      "filter buoyancy\n"
     ]
    },
    {
     "name": "stderr",
     "output_type": "stream",
     "text": [
      "distributed.comm.tcp - WARNING - Closing dangling stream in <TCP  local=tcp://127.0.0.1:41242 remote=tcp://127.0.0.1:41288>\n",
      "distributed.comm.tcp - WARNING - Closing dangling stream in <TCP  local=tcp://127.0.0.1:41314 remote=tcp://127.0.0.1:41288>\n",
      "distributed.comm.tcp - WARNING - Closing dangling stream in <TCP  local=tcp://127.0.0.1:41322 remote=tcp://127.0.0.1:41288>\n",
      "distributed.utils_perf - WARNING - full garbage collections took 34% CPU time recently (threshold: 10%)\n"
     ]
    }
   ],
   "source": [
    "date='20090701'\n",
    "print('read the data')\n",
    "tfilename = sorted(glob.glob(data_dir+'*/eNATL60-BLBT02_1h_*_gridT_'+date+'-'+date+'.nc'))\n",
    "tfile=tfilename[0]\n",
    "dst=xr.open_dataset(tfile,chunks={'x':1000,'y':1000,'time_counter':1,'deptht':1})\n",
    "tdata=dst['votemper']\n",
    "sfilename = sorted(glob.glob(data_dir+'*/eNATL60-BLBT02_1h_*_gridS_'+date+'-'+date+'.nc'))\n",
    "sfile=sfilename[0]\n",
    "dss=xr.open_dataset(sfile,chunks={'x':1000,'y':1000,'time_counter':1,'deptht':1})\n",
    "sdata=dss['vosaline']\n",
    "wfilename = sorted(glob.glob(data_dir+'*/eNATL60-BLBT02_1h_*_gridW_'+date+'-'+date+'.nc'))\n",
    "wfile=wfilename[0]\n",
    "dsw=xr.open_dataset(wfile,chunks={'x':1000,'y':1000,'time_counter':1,'depthw':1})\n",
    "wdata=dsw['vovecrtz']\n",
    "wdata_t=wdata.rename({'depthw':'deptht'})\n",
    "print('compute buoyancy')\n",
    "buoy=compute_buoy(tdata,sdata)\n",
    "print('filter w')\n",
    "wprime=filt(wdata_t)\n",
    "print('filter buoyancy')\n",
    "bprime=filt(buoy)\n"
   ]
  },
  {
   "cell_type": "code",
   "execution_count": 14,
   "metadata": {},
   "outputs": [
    {
     "data": {
      "text/plain": [
       "<xarray.DataArray 'vovecrtz' (time_counter: 24, depthw: 300, y: 4729, x: 8354)>\n",
       "dask.array<shape=(24, 300, 4729, 8354), dtype=float32, chunksize=(1, 1, 1000, 1000)>\n",
       "Coordinates:\n",
       "    nav_lat        (y, x) float32 dask.array<shape=(4729, 8354), chunksize=(1000, 1000)>\n",
       "    nav_lon        (y, x) float32 dask.array<shape=(4729, 8354), chunksize=(1000, 1000)>\n",
       "  * depthw         (depthw) float32 0.0 1.0000261 2.156828 ... 5949.999 6000.0\n",
       "    time_centered  (time_counter) datetime64[ns] dask.array<shape=(24,), chunksize=(1,)>\n",
       "  * time_counter   (time_counter) datetime64[ns] 2009-07-01T00:30:00 ... 2009-07-01T23:30:00\n",
       "Dimensions without coordinates: y, x\n",
       "Attributes:\n",
       "    standard_name:       upward_sea_water_velocity\n",
       "    long_name:           ocean vertical velocity\n",
       "    units:               m/s\n",
       "    online_operation:    average\n",
       "    interval_operation:  40 s\n",
       "    interval_write:      1 h\n",
       "    cell_methods:        time: mean (interval: 40 s)"
      ]
     },
     "execution_count": 14,
     "metadata": {},
     "output_type": "execute_result"
    }
   ],
   "source": [
    "wdata"
   ]
  },
  {
   "cell_type": "code",
   "execution_count": 25,
   "metadata": {},
   "outputs": [
    {
     "name": "stderr",
     "output_type": "stream",
     "text": [
      "/scratch/cnt0024/hmg2840/albert7a/anaconda3/lib/python3.7/site-packages/xarray/core/dataarray.py:979: FutureWarning: Indexer has dimensions ('deptht',) that are different from that to be indexed along depthw. This will behave differently in the future.\n",
      "  indexers=indexers, method=method, tolerance=tolerance, copy=copy)\n"
     ]
    }
   ],
   "source": [
    "deptht=dst.deptht\n",
    "wdata_t=wdata.reindex({'depthw':deptht},method='nearest')\n",
    "wdata_t=wdata_t.rename({'depthw':'deptht'})"
   ]
  },
  {
   "cell_type": "code",
   "execution_count": 26,
   "metadata": {},
   "outputs": [
    {
     "name": "stderr",
     "output_type": "stream",
     "text": [
      "distributed.comm.tcp - WARNING - Closing dangling stream in <TCP  local=tcp://127.0.0.1:40702 remote=tcp://127.0.0.1:41288>\n",
      "distributed.utils_perf - WARNING - full garbage collections took 36% CPU time recently (threshold: 10%)\n"
     ]
    }
   ],
   "source": [
    "wprime=filt(wdata_t)\n"
   ]
  },
  {
   "cell_type": "code",
   "execution_count": 27,
   "metadata": {},
   "outputs": [
    {
     "data": {
      "text/plain": [
       "<xarray.DataArray 'vovecrtz' (time_counter: 24, deptht: 300, y: 4729, x: 8354)>\n",
       "dask.array<shape=(24, 300, 4729, 8354), dtype=float64, chunksize=(1, 1, 1000, 1000)>\n",
       "Coordinates:\n",
       "  * deptht         (deptht) float32 0.48045477 1.5587916 ... 5974.8853 6025.346\n",
       "    nav_lat        (y, x) float32 dask.array<shape=(4729, 8354), chunksize=(1000, 1000)>\n",
       "    nav_lon        (y, x) float32 dask.array<shape=(4729, 8354), chunksize=(1000, 1000)>\n",
       "    time_centered  (time_counter) datetime64[ns] dask.array<shape=(24,), chunksize=(1,)>\n",
       "  * time_counter   (time_counter) datetime64[ns] 2009-07-01T00:30:00 ... 2009-07-01T23:30:00\n",
       "Dimensions without coordinates: y, x"
      ]
     },
     "execution_count": 27,
     "metadata": {},
     "output_type": "execute_result"
    }
   ],
   "source": [
    "wprime"
   ]
  },
  {
   "cell_type": "code",
   "execution_count": 28,
   "metadata": {},
   "outputs": [],
   "source": [
    "wprimebprime=wprime*bprime"
   ]
  },
  {
   "cell_type": "code",
   "execution_count": 29,
   "metadata": {},
   "outputs": [
    {
     "data": {
      "text/plain": [
       "<xarray.DataArray (time_counter: 24, deptht: 300, y: 4729, x: 8354)>\n",
       "dask.array<shape=(24, 300, 4729, 8354), dtype=float64, chunksize=(1, 1, 1000, 1000)>\n",
       "Coordinates:\n",
       "  * deptht         (deptht) float32 0.48045477 1.5587916 ... 5974.8853 6025.346\n",
       "    nav_lat        (y, x) float32 dask.array<shape=(4729, 8354), chunksize=(1000, 1000)>\n",
       "    nav_lon        (y, x) float32 dask.array<shape=(4729, 8354), chunksize=(1000, 1000)>\n",
       "    time_centered  (time_counter) datetime64[ns] dask.array<shape=(24,), chunksize=(1,)>\n",
       "  * time_counter   (time_counter) datetime64[ns] 2009-07-01T00:30:00 ... 2009-07-01T23:30:00\n",
       "Dimensions without coordinates: y, x"
      ]
     },
     "execution_count": 29,
     "metadata": {},
     "output_type": "execute_result"
    }
   ],
   "source": [
    "wprimebprime"
   ]
  },
  {
   "cell_type": "code",
   "execution_count": null,
   "metadata": {},
   "outputs": [],
   "source": [
    "dataset=wprimebprime.to_dataset(name='wprimebprime')\n",
    "attrs=tdata.attrs\n",
    "dataset['wprimebprime'].attrs=attrs\n",
    "dataset['wprimebprime'].attrs['standard_name']='product of filtered vertical velocity and buoyancy'\n",
    "dataset['wprimebprime'].attrs['long_name']='wprimebprime'\n",
    "dataset['wprimebprime'].attrs['units']=''        \n",
    "dataset.attrs['global_attribute']= 'product of filtered vertical velocity and buoyancy'\n",
    "dataset.to_netcdf(path='/scratch/cnt0024/hmg2840/albert7a/eNATL60/eNATL60-BLBT02-S/ANNA/eNATL60-BLBT02_y'+date[0:4]+'m'+date[4:6]+'d'+date[6:9]+'_wprimebprime.nc',mode='w')\n"
   ]
  },
  {
   "cell_type": "code",
   "execution_count": null,
   "metadata": {},
   "outputs": [],
   "source": []
  }
 ],
 "metadata": {
  "kernelspec": {
   "display_name": "Python 3",
   "language": "python",
   "name": "python3"
  },
  "language_info": {
   "codemirror_mode": {
    "name": "ipython",
    "version": 3
   },
   "file_extension": ".py",
   "mimetype": "text/x-python",
   "name": "python",
   "nbconvert_exporter": "python",
   "pygments_lexer": "ipython3",
   "version": "3.7.3"
  }
 },
 "nbformat": 4,
 "nbformat_minor": 2
}
