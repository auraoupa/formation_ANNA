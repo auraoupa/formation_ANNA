{
 "cells": [
  {
   "cell_type": "code",
   "execution_count": 1,
   "metadata": {},
   "outputs": [
    {
     "name": "stderr",
     "output_type": "stream",
     "text": [
      "/home/alberta/anaconda2/envs/pangeo-cloud/lib/python3.6/site-packages/dask/config.py:168: YAMLLoadWarning: calling yaml.load() without Loader=... is deprecated, as the default Loader is unsafe. Please read https://msg.pyyaml.org/load for full details.\n",
      "  data = yaml.load(f.read()) or {}\n"
     ]
    }
   ],
   "source": [
    "import dask\n",
    "import dask.threaded\n",
    "import dask.multiprocessing\n",
    "from dask.distributed import Client\n",
    "c = Client()\n",
    "\n"
   ]
  },
  {
   "cell_type": "code",
   "execution_count": 2,
   "metadata": {},
   "outputs": [
    {
     "data": {
      "text/html": [
       "<table style=\"border: 2px solid white;\">\n",
       "<tr>\n",
       "<td style=\"vertical-align: top; border: 0px solid white\">\n",
       "<h3>Client</h3>\n",
       "<ul>\n",
       "  <li><b>Scheduler: </b>tcp://127.0.0.1:46191\n",
       "  <li><b>Dashboard: </b><a href='http://127.0.0.1:8787/status' target='_blank'>http://127.0.0.1:8787/status</a>\n",
       "</ul>\n",
       "</td>\n",
       "<td style=\"vertical-align: top; border: 0px solid white\">\n",
       "<h3>Cluster</h3>\n",
       "<ul>\n",
       "  <li><b>Workers: </b>4</li>\n",
       "  <li><b>Cores: </b>8</li>\n",
       "  <li><b>Memory: </b>33.66 GB</li>\n",
       "</ul>\n",
       "</td>\n",
       "</tr>\n",
       "</table>"
      ],
      "text/plain": [
       "<Client: scheduler='tcp://127.0.0.1:46191' processes=4 cores=8>"
      ]
     },
     "execution_count": 2,
     "metadata": {},
     "output_type": "execute_result"
    }
   ],
   "source": [
    "c\n"
   ]
  },
  {
   "cell_type": "code",
   "execution_count": 4,
   "metadata": {},
   "outputs": [],
   "source": [
    "import xarray as xr\n",
    "import numpy as np\n",
    "import glob\n",
    "import time\n",
    "                                   \n",
    "\n",
    "data_dir = '/home/alberta/occigen/eNATL60-BLBT02/'\n",
    "\n",
    "tfiles = sorted(glob.glob(data_dir + '*/eNATL60-BLBT02_1h_*_gridT_20090701-20090701.nc'))\n",
    "sfiles = sorted(glob.glob(data_dir + '*/eNATL60-BLBT02_1h_*_gridS_20090701-20090701.nc'))\n"
   ]
  },
  {
   "cell_type": "code",
   "execution_count": 5,
   "metadata": {},
   "outputs": [
    {
     "name": "stdout",
     "output_type": "stream",
     "text": [
      "CPU times: user 3.91 s, sys: 444 ms, total: 4.36 s\n",
      "Wall time: 12.8 s\n",
      "CPU times: user 3.82 s, sys: 328 ms, total: 4.14 s\n",
      "Wall time: 12.5 s\n"
     ]
    }
   ],
   "source": [
    "def non_time_coords(ds):\n",
    "    return [v for v in ds.data_vars\n",
    "            if 'time_counter' not in ds[v].dims]\n",
    "\n",
    "def drop_non_essential_vars_pop(ds):\n",
    "    return ds.drop(non_time_coords(ds))\n",
    "\n",
    "%time dst=xr.open_mfdataset(tfiles,parallel=True,concat_dim='time_counter',decode_cf=False,preprocess=drop_non_essential_vars_pop,chunks={'x':120,'y':120,'deptht':1,'time_counter':24}) \n",
    "%time dss=xr.open_mfdataset(sfiles,parallel=True,concat_dim='time_counter',decode_cf=False,preprocess=drop_non_essential_vars_pop,chunks={'x':120,'y':120,'deptht':1,'time_counter':24})\n"
   ]
  },
  {
   "cell_type": "code",
   "execution_count": null,
   "metadata": {},
   "outputs": [
    {
     "name": "stdout",
     "output_type": "stream",
     "text": [
      "Save buoy to netcdf\n"
     ]
    }
   ],
   "source": [
    "def compute_buoy(t,s):\n",
    "    rau0  = 1000\n",
    "    grav  = 9.81\n",
    "    buoy= -1*(grav/rau0)*sigma0(t,s)\n",
    "    return buoy\n",
    "\n",
    "def sigma0(t,s):\n",
    "    zrau0=1000\n",
    "    zsr=np.sqrt(np.abs(s))\n",
    "    zs=s\n",
    "    zt=t\n",
    "    zr1 = ( ( ( ( 6.536332e-9*zt-1.120083e-6 )*zt+1.001685e-4)*zt - 9.095290e-3 )*zt+6.793952e-2 )*zt+999.842594\n",
    "    zr2= ( ( ( 5.3875e-9*zt-8.2467e-7 )*zt+7.6438e-5 ) *zt - 4.0899e-3 ) *zt+0.824493\n",
    "    zr3= ( -1.6546e-6*zt+1.0227e-4 ) *zt-5.72466e-3\n",
    "    zr4= 4.8314e-4\n",
    "    sigma0=( zr4*zs + zr3*zsr + zr2 ) *zs + zr1 - zrau0\n",
    "    return sigma0\n",
    "\n",
    "\n",
    "def save_buoy_all():\n",
    "    temp=dst.votemper\n",
    "    salt=dss.vosaline\n",
    "    buoy=compute_buoy(temp,salt)\n",
    "    print('Save buoy to netcdf')\n",
    "    buoy.rename('buoy').to_dataset().to_netcdf(path='/media/extra/DATA/eNATL60/eNATL60-BLBT02-S/eNATL60-BLBT02_y2009m07d01_buoy.nc',mode='w')\n",
    "\n",
    "%time save_buoy_all()\n"
   ]
  },
  {
   "cell_type": "code",
   "execution_count": null,
   "metadata": {},
   "outputs": [],
   "source": []
  }
 ],
 "metadata": {
  "kernelspec": {
   "display_name": "pangeo_cloud",
   "language": "python",
   "name": "pangeo-cloud"
  },
  "language_info": {
   "codemirror_mode": {
    "name": "ipython",
    "version": 3
   },
   "file_extension": ".py",
   "mimetype": "text/x-python",
   "name": "python",
   "nbconvert_exporter": "python",
   "pygments_lexer": "ipython3",
   "version": "3.6.7"
  }
 },
 "nbformat": 4,
 "nbformat_minor": 2
}
