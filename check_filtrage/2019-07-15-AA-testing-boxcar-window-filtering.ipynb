{
 "cells": [
  {
   "cell_type": "code",
   "execution_count": 1,
   "metadata": {},
   "outputs": [],
   "source": [
    "import xarray as xr\n",
    "import numpy as np\n",
    "import glob\n",
    "import time"
   ]
  },
  {
   "cell_type": "code",
   "execution_count": 2,
   "metadata": {},
   "outputs": [],
   "source": [
    "import sys\n",
    "sys.path.insert(0,'/home/alberta/Work/git/formation_ANNA')\n",
    "import xscale.xscale"
   ]
  },
  {
   "cell_type": "code",
   "execution_count": 3,
   "metadata": {},
   "outputs": [
    {
     "name": "stdout",
     "output_type": "stream",
     "text": [
      "eNATL60-BLBT02_1h_20090630_20090704_gridT_20090630-20090630.nc\r\n"
     ]
    }
   ],
   "source": [
    "!ls /mnt/alberta/equipes/IGE/meom/workdir/albert/eNATL60/eNATL60-BLBT02-S/1h/3D/"
   ]
  },
  {
   "cell_type": "code",
   "execution_count": 4,
   "metadata": {},
   "outputs": [],
   "source": [
    "datadir = '/mnt/alberta/equipes/IGE/meom/workdir/albert/eNATL60/eNATL60-BLBT02-S/1h/3D/'\n",
    "dst=xr.open_dataset(datadir+'eNATL60-BLBT02_1h_20090630_20090704_gridT_20090630-20090630.nc') \n"
   ]
  },
  {
   "cell_type": "code",
   "execution_count": 5,
   "metadata": {},
   "outputs": [],
   "source": [
    "def filt(w):\n",
    "    win_box2D = w.window\n",
    "    win_box2D.set(window='boxcar', cutoff=80, dim=['x', 'y'], n=[80, 80])\n",
    "    bw = win_box2D.boundary_weights(drop_dims=[])\n",
    "    w_LS = win_box2D.convolve(weights=bw)\n",
    "    w_SS=w-w_LS\n",
    "    return w_SS\n"
   ]
  },
  {
   "cell_type": "code",
   "execution_count": 6,
   "metadata": {},
   "outputs": [],
   "source": [
    "import PowerSpec.PowerSpec as ws\n"
   ]
  },
  {
   "cell_type": "code",
   "execution_count": 7,
   "metadata": {},
   "outputs": [],
   "source": [
    "temp=dst.votemper[0,0]\n",
    "tprime=filt(temp)\n"
   ]
  },
  {
   "cell_type": "code",
   "execution_count": null,
   "metadata": {},
   "outputs": [],
   "source": [
    "zlat= dst['nav_lat'][600:1200,1800:2400].values\n",
    "zlon= dst['nav_lon'][600:1200,1800:2400].values\n",
    "zfull = temp[600:1200,1800:2400].values\n",
    "zhp = tprime[600:1200,1800:2400].values\n",
    "zlp = zfull - zhp"
   ]
  },
  {
   "cell_type": "code",
   "execution_count": null,
   "metadata": {},
   "outputs": [],
   "source": [
    "zfull"
   ]
  },
  {
   "cell_type": "code",
   "execution_count": null,
   "metadata": {},
   "outputs": [],
   "source": [
    "import os\n",
    "import conda\n",
    "\n",
    "conda_file_dir = conda.__file__\n",
    "conda_dir = conda_file_dir.split('lib')[0]\n",
    "proj_lib = os.path.join(os.path.join(conda_dir, 'share'), 'proj')\n",
    "os.environ[\"PROJ_LIB\"] = proj_lib\n"
   ]
  },
  {
   "cell_type": "code",
   "execution_count": null,
   "metadata": {},
   "outputs": [],
   "source": [
    "interp = 'basemap'\n",
    "def compute_spectrum(var):\n",
    "    data = var.squeeze()\n",
    "    x_reg,y_reg,data_reg = ws.interpolate(data,zlon,zlat,interp=interp)\n",
    "    pspec,kstep = ws.wavenumber_spectra(data_reg,x_reg,y_reg)\n",
    "    return pspec, kstep\n",
    "\n",
    "%time spectre_full = compute_spectrum(zfull)\n",
    "%time spectre_hp   = compute_spectrum(zhp)\n",
    "%time spectre_lp   = compute_spectrum(zlp)\n"
   ]
  },
  {
   "cell_type": "code",
   "execution_count": null,
   "metadata": {},
   "outputs": [],
   "source": [
    "import matplotlib.pyplot as plt\n",
    "\n",
    "rad2cyc = 1.E3 / np.pi / 2. \n",
    "\n",
    "def nice_spectrum(spectre_full,spectre_hp,spectre_lp):\n",
    "    fig, axarr = plt.subplots(1,1)\n",
    "    fig.set_figheight(8)\n",
    "    fig.set_figwidth(15)\n",
    "    #\n",
    "    pspec,kstep = spectre_full\n",
    "    pspec_lp,kstep_lp = spectre_lp\n",
    "    pspec_hp,kstep_hp = spectre_hp\n",
    "    skstep = kstep * rad2cyc\n",
    "    y_min = 10 ** np.floor(np.log10(pspec.min())-1)\n",
    "    y_max = 10 ** np.ceil( np.log10(pspec.max())+1)\n",
    "    axarr.plot(skstep[1:], pspec[1:],'k-', lw=3, label='Full relative vorticity')\n",
    "    axarr.plot(skstep[1:], pspec_lp[1:],'r-', lw=3, label='Low passed relative vorticity f=0.0125 n=80')\n",
    "    axarr.plot(skstep[1:], pspec_hp[1:],'b-', lw=3, label='Full - Low passed  f=0.0125 n=80')\n",
    "    axarr.set_xscale('log')\n",
    "    axarr.set_yscale('log')\n",
    "    axarr.set_xbound(1e-5*rad2cyc, 1e-2*rad2cyc)\n",
    "    axarr.set_ybound(y_min, y_max)\n",
    "    axarr.set_title('',fontsize=20)\n",
    "    axarr.grid(True,which='both',ls='-')\n",
    "    axarr.axis('tight')\n",
    "    axarr.legend(loc=\"lower left\", fontsize=25)\n",
    "    axarr.tick_params(labelsize=25)\n",
    "\n",
    "nice_spectrum(spectre_full,spectre_hp,spectre_lp)\n"
   ]
  }
 ],
 "metadata": {
  "kernelspec": {
   "display_name": "basemap",
   "language": "python",
   "name": "basemap"
  },
  "language_info": {
   "codemirror_mode": {
    "name": "ipython",
    "version": 3
   },
   "file_extension": ".py",
   "mimetype": "text/x-python",
   "name": "python",
   "nbconvert_exporter": "python",
   "pygments_lexer": "ipython3",
   "version": "3.7.3"
  }
 },
 "nbformat": 4,
 "nbformat_minor": 2
}
