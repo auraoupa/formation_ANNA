{
 "cells": [
  {
   "cell_type": "markdown",
   "metadata": {},
   "source": [
    "https://docs.scipy.org/doc/scipy/reference/generated/scipy.signal.windows.get_window.html#scipy.signal.windows.get_window"
   ]
  },
  {
   "cell_type": "markdown",
   "metadata": {},
   "source": [
    "Window types:\n",
    "\n",
    "    boxcar\n",
    "\n",
    "    triang\n",
    "\n",
    "    blackman\n",
    "\n",
    "    hamming\n",
    "\n",
    "    hann\n",
    "\n",
    "    bartlett\n",
    "\n",
    "    flattop\n",
    "\n",
    "    parzen\n",
    "\n",
    "    bohman\n",
    "\n",
    "    blackmanharris\n",
    "\n",
    "    nuttall\n",
    "\n",
    "    barthann\n",
    "\n",
    "    kaiser (needs beta)\n",
    "\n",
    "    gaussian (needs standard deviation)\n",
    "\n",
    "    general_gaussian (needs power, width)\n",
    "\n",
    "    slepian (needs width)\n",
    "\n",
    "    dpss (needs normalized half-bandwidth)\n",
    "\n",
    "    chebwin (needs attenuation)\n",
    "\n",
    "    exponential (needs decay scale)\n",
    "\n",
    "    tukey (needs taper fraction)\n",
    "\n"
   ]
  },
  {
   "cell_type": "code",
   "execution_count": null,
   "metadata": {},
   "outputs": [],
   "source": []
  }
 ],
 "metadata": {
  "kernelspec": {
   "display_name": "pangeo_cloud",
   "language": "python",
   "name": "pangeo-cloud"
  },
  "language_info": {
   "codemirror_mode": {
    "name": "ipython",
    "version": 3
   },
   "file_extension": ".py",
   "mimetype": "text/x-python",
   "name": "python",
   "nbconvert_exporter": "python",
   "pygments_lexer": "ipython3",
   "version": "3.6.7"
  }
 },
 "nbformat": 4,
 "nbformat_minor": 2
}
